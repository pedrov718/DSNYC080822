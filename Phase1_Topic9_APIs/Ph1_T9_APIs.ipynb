{
 "cells": [
  {
   "cell_type": "markdown",
   "id": "27d3d4e3",
   "metadata": {
    "cell_style": "center",
    "slideshow": {
     "slide_type": "slide"
    },
    "pycharm": {
     "name": "#%% md\n"
    }
   },
   "source": [
    "<div style=\"color:white;\n",
    "           display:fill;\n",
    "           border-radius:5px;\n",
    "           background-color:#5642C5;\n",
    "           font-size:200%;\n",
    "           font-family:Arial;letter-spacing:0.5px\">\n",
    "\n",
    "<p width = 20%, style=\"padding: 10px;\n",
    "              color:white;\">\n",
    "APIs\n",
    "              \n",
    "</p>\n",
    "</div>\n",
    "\n",
    "Data Science Cohort Live NYC Feb 2022\n",
    "<p>Phase 1: Topic 9</p>\n",
    "<br>\n",
    "<br>\n",
    "\n",
    "<div align = \"right\">\n",
    "<img src=\"Images/flatiron-school-logo.png\" align = \"right\" width=\"200\"/>\n",
    "</div>\n",
    "    \n",
    "   "
   ]
  },
  {
   "cell_type": "markdown",
   "id": "3d95ddf6",
   "metadata": {
    "slideshow": {
     "slide_type": "slide"
    },
    "pycharm": {
     "name": "#%% md\n"
    }
   },
   "source": [
    "API, in this context:\n",
    "\n",
    "<div>\n",
    "<center><img src=\"Images/api.png\" width=\"700\"/></center>\n",
    "</div>"
   ]
  },
  {
   "cell_type": "markdown",
   "id": "95400439",
   "metadata": {
    "slideshow": {
     "slide_type": "slide"
    },
    "pycharm": {
     "name": "#%% md\n"
    }
   },
   "source": [
    "Send request/recieve response (HTTP)\n",
    "\n",
    "<div>\n",
    "<center><img src=\"Images/http_method.png\" width=\"600\"/></center>\n",
    "</div>\n",
    "\n",
    "Can get response back and interpret in various forms:\n",
    "- JSON\n",
    "- XML\n",
    "- Raw text\n",
    "- etc"
   ]
  },
  {
   "cell_type": "markdown",
   "id": "47bfb4d3",
   "metadata": {
    "slideshow": {
     "slide_type": "slide"
    },
    "pycharm": {
     "name": "#%% md\n"
    }
   },
   "source": [
    "A fictitious database accessed via HTTP:\n",
    "\n",
    "https://www.mypetfun.com/db/api\n",
    "\n",
    "<div>\n",
    "<center><img src=\"Images/http_methods.png\" width=\"500\"/></center>\n",
    "</div>\n",
    "\n"
   ]
  },
  {
   "cell_type": "markdown",
   "id": "bbaf6739",
   "metadata": {
    "slideshow": {
     "slide_type": "slide"
    },
    "pycharm": {
     "name": "#%% md\n"
    }
   },
   "source": [
    "More technically:\n",
    "\n",
    "\n",
    "<div>\n",
    "<center><img src=\"Images/technical_HTTP_methods.jpeg\" width=\"500\"/></center>\n",
    "</div>\n"
   ]
  },
  {
   "cell_type": "markdown",
   "source": [
    "Requested data via HTTP might look like this:\n",
    "\n",
    "<br>\n",
    "<br>\n",
    "<div>\n",
    "<center><img src=\"Images/html_request.png\" width=\"700\"/></center>\n",
    "</div>"
   ],
   "metadata": {
    "collapsed": false,
    "pycharm": {
     "name": "#%% md\n"
    }
   }
  },
  {
   "cell_type": "markdown",
   "source": [
    "This is HTML + CSS. Will see how to parse this next lecture."
   ],
   "metadata": {
    "collapsed": false,
    "pycharm": {
     "name": "#%% md\n"
    }
   }
  },
  {
   "cell_type": "markdown",
   "source": [
    "Requested data via HTTP might also look like this:\n",
    "\n",
    "<br>\n",
    "<br>\n",
    "<div>\n",
    "<center><img src=\"Images/request_json.png\" width=\"700\"/></center>\n",
    "</div>\n"
   ],
   "metadata": {
    "collapsed": false,
    "pycharm": {
     "name": "#%% md\n"
    }
   }
  },
  {
   "cell_type": "markdown",
   "source": [
    "Content looks like JSON!"
   ],
   "metadata": {
    "collapsed": false,
    "pycharm": {
     "name": "#%% md\n"
    }
   }
  },
  {
   "cell_type": "markdown",
   "source": [
    "\n",
    "In general: \n",
    "- Want to submit HTTP commands.\n",
    "- Interact with API and HTTP server\n",
    "- Get request/data metadata\n",
    "- Fetch/parse data into Python data structures."
   ],
   "metadata": {
    "collapsed": false,
    "pycharm": {
     "name": "#%% md\n"
    }
   }
  },
  {
   "cell_type": "markdown",
   "source": [
    "The requests library:\n",
    "\n",
    "\n",
    "<br>\n",
    "<br>\n",
    "<div>\n",
    "<center><img src=\"Images/requests.png\" width=\"250\"/></center>\n",
    "</div>\n"
   ],
   "metadata": {
    "collapsed": false,
    "pycharm": {
     "name": "#%% md\n"
    }
   }
  },
  {
   "cell_type": "code",
   "execution_count": null,
   "outputs": [],
   "source": [
    "import pandas as pd\n",
    "\n",
    "# the requests package\n",
    "import requests"
   ],
   "metadata": {
    "collapsed": false,
    "pycharm": {
     "name": "#%%\n"
    }
   }
  },
  {
   "cell_type": "markdown",
   "source": [
    "Let's use requests to access data from APIs with public access!\n",
    "<br>\n",
    "<br>\n",
    "<div>\n",
    "<center><img src=\"Images/public_api.png\" width=\"500\"/></center>\n",
    "</div>\n",
    "\n",
    "<center>https://github.com/public-apis/public-apis</center>"
   ],
   "metadata": {
    "collapsed": false,
    "pycharm": {
     "name": "#%% md\n"
    }
   }
  },
  {
   "cell_type": "markdown",
   "source": [
    "The Chuck Norris joke dataset!\n",
    "\n",
    "<center><img src=\"Images/chnorris_kick.png\" width=\"450\"/></center>\n",
    "\n"
   ],
   "metadata": {
    "collapsed": false,
    "pycharm": {
     "name": "#%% md\n"
    }
   }
  },
  {
   "cell_type": "markdown",
   "source": [
    "Or this:\n",
    "\n",
    "<center><img src=\"Images/chucknorris.jpg\" width=\"450\"/></center>"
   ],
   "metadata": {
    "collapsed": false,
    "pycharm": {
     "name": "#%% md\n"
    }
   }
  },
  {
   "cell_type": "markdown",
   "source": [
    "<div>\n",
    "<center><img src=\"Images/chucknorris_recycling.jfif\" width=\"450\"/></center>\n",
    "</div>"
   ],
   "metadata": {
    "collapsed": false,
    "pycharm": {
     "name": "#%% md\n"
    }
   }
  },
  {
   "cell_type": "markdown",
   "source": [
    "Using the requests get method:\n",
    "\n",
    "- requests.get(url, header = __ , params = __ ) makes a get request on given url\n",
    "- An API may take in additional arguments for returning data in specific form.\n",
    "- Some require a header for authentication.\n",
    "\n",
    "\n",
    "Take a look at the documentation for the Chuck Norris API:\n",
    "\n",
    "https://api.chucknorris.io/"
   ],
   "metadata": {
    "collapsed": false,
    "pycharm": {
     "name": "#%% md\n"
    }
   }
  },
  {
   "cell_type": "code",
   "execution_count": null,
   "outputs": [],
   "source": [
    "# get a random joke\n",
    "random_chucknorris_url = \"https://api.chucknorris.io/jokes/random?category=fashion\"\n",
    "r = requests.get(random_chucknorris_url)\n",
    "r"
   ],
   "metadata": {
    "collapsed": false,
    "pycharm": {
     "name": "#%%\n"
    }
   }
  },
  {
   "cell_type": "markdown",
   "source": [
    "This is a response object:\n",
    "- Indicates the type of HTTP response.\n",
    "- 200 = OK.\n",
    "- 400 = Error.\n",
    "\n",
    "Many more types of codes. Look it up."
   ],
   "metadata": {
    "collapsed": false,
    "pycharm": {
     "name": "#%% md\n"
    }
   }
  },
  {
   "cell_type": "markdown",
   "source": [
    "Response object attributes and methods:\n",
    "- .status_code\n",
    "- .headers\n",
    "- .text\n",
    "- .json()"
   ],
   "metadata": {
    "collapsed": false,
    "pycharm": {
     "name": "#%% md\n"
    }
   }
  },
  {
   "cell_type": "markdown",
   "source": [
    "#### .status_code\n",
    "\n",
    "Status code of HTTP response."
   ],
   "metadata": {
    "collapsed": false,
    "pycharm": {
     "name": "#%% md\n"
    }
   }
  },
  {
   "cell_type": "code",
   "execution_count": null,
   "outputs": [],
   "source": [
    "r.status_code"
   ],
   "metadata": {
    "collapsed": false,
    "pycharm": {
     "name": "#%%\n"
    }
   }
  },
  {
   "cell_type": "markdown",
   "source": [
    "#### .headers\n",
    "\n",
    "- Information about the type of content\n",
    "- Metadata about the request"
   ],
   "metadata": {
    "collapsed": false,
    "pycharm": {
     "name": "#%% md\n"
    }
   }
  },
  {
   "cell_type": "code",
   "execution_count": null,
   "outputs": [],
   "source": [
    "r.headers"
   ],
   "metadata": {
    "collapsed": false,
    "pycharm": {
     "name": "#%%\n"
    }
   }
  },
  {
   "cell_type": "code",
   "execution_count": null,
   "outputs": [],
   "source": [
    "r.headers['Date']"
   ],
   "metadata": {
    "collapsed": false,
    "pycharm": {
     "name": "#%%\n"
    }
   }
  },
  {
   "cell_type": "markdown",
   "source": [
    "#### .text\n",
    "\n",
    "- Returns fetched information\n",
    "- In pure text format: Python string"
   ],
   "metadata": {
    "collapsed": false,
    "pycharm": {
     "name": "#%% md\n"
    }
   }
  },
  {
   "cell_type": "code",
   "execution_count": null,
   "outputs": [],
   "source": [
    "r.text"
   ],
   "metadata": {
    "collapsed": false,
    "pycharm": {
     "name": "#%%\n"
    }
   }
  },
  {
   "cell_type": "markdown",
   "source": [
    "#### .json()\n",
    "\n",
    "- Parses fetched info as json\n",
    "- Returns python dictionary"
   ],
   "metadata": {
    "collapsed": false,
    "pycharm": {
     "name": "#%% md\n"
    }
   }
  },
  {
   "cell_type": "code",
   "execution_count": null,
   "outputs": [],
   "source": [
    "r.json()"
   ],
   "metadata": {
    "collapsed": false,
    "pycharm": {
     "name": "#%%\n"
    }
   }
  },
  {
   "cell_type": "markdown",
   "source": [
    "#### API parameters\n",
    "- API requests will often allow additional arguments.\n",
    "- I.e. get subset of data, search database by keyword, etc."
   ],
   "metadata": {
    "collapsed": false,
    "pycharm": {
     "name": "#%% md\n"
    }
   }
  },
  {
   "cell_type": "code",
   "execution_count": null,
   "outputs": [],
   "source": [
    "new_req = \"https://api.chucknorris.io/jokes/search\"\n",
    "parameters = {'query': 'recycle'}\n",
    "r2 = requests.get(new_req, params = parameters)\n",
    "\n",
    "# same as just passing in \"https://api.chucknorris.io/jokes/search?query=recycle\"\n",
    "# using params dictionary much better form."
   ],
   "metadata": {
    "collapsed": false,
    "pycharm": {
     "name": "#%%\n"
    }
   }
  },
  {
   "cell_type": "code",
   "execution_count": null,
   "outputs": [],
   "source": [
    "query_data = r2.json()"
   ],
   "metadata": {
    "collapsed": false,
    "pycharm": {
     "name": "#%%\n"
    }
   }
  },
  {
   "cell_type": "code",
   "execution_count": null,
   "outputs": [],
   "source": [
    "query_data.keys()"
   ],
   "metadata": {
    "collapsed": false,
    "pycharm": {
     "name": "#%%\n"
    }
   }
  },
  {
   "cell_type": "code",
   "execution_count": null,
   "outputs": [],
   "source": [
    "query_data['total']"
   ],
   "metadata": {
    "collapsed": false,
    "pycharm": {
     "name": "#%%\n"
    }
   }
  },
  {
   "cell_type": "code",
   "execution_count": null,
   "outputs": [],
   "source": [
    "query_data['result']"
   ],
   "metadata": {
    "collapsed": false,
    "pycharm": {
     "name": "#%%\n"
    }
   }
  },
  {
   "cell_type": "code",
   "execution_count": null,
   "outputs": [],
   "source": [
    "# get me a list containing all the Chuck Norris jokes concerning roundhouse kicks.\n",
    "roundhouse_url = \"https://api.chucknorris.io/jokes/search\"\n",
    "\n",
    "params = {'query' : 'roundhouse kick'}\n",
    "\n",
    "r3 = requests.get(roundhouse_url, params)\n",
    "\n",
    "r3.json()"
   ],
   "metadata": {
    "collapsed": false,
    "pycharm": {
     "name": "#%%\n"
    }
   }
  },
  {
   "cell_type": "code",
   "execution_count": null,
   "outputs": [],
   "source": [
    "# get me a Chuck Norris joke in the sports category."
   ],
   "metadata": {
    "collapsed": false,
    "pycharm": {
     "name": "#%%\n"
    }
   }
  },
  {
   "cell_type": "markdown",
   "source": [
    "#### Secure APIs: Generating Access Tokens\n",
    "- Need to generate an access token for secure APIs.\n",
    "- Uses OAuth protocol for providing API access.\n",
    "    - Verify identity.\n",
    "    - Give access to resource.\n"
   ],
   "metadata": {
    "collapsed": false,
    "pycharm": {
     "name": "#%% md\n"
    }
   }
  },
  {
   "cell_type": "markdown",
   "source": [
    "#### Acessing data via Yelp API\n",
    "\n",
    "<div>\n",
    "<center><img src=\"Images/yelp.png\" width=\"450\"/></center>\n",
    "</div>\n",
    "<center>https://www.yelp.com/developers/v3/manage_app </center>\n",
    "\n",
    "\n",
    "- Fill out your app info/details. \n",
    "- Afterwards, should be presented with an API key for making requests.\n"
   ],
   "metadata": {
    "collapsed": false,
    "pycharm": {
     "name": "#%% md\n"
    }
   }
  },
  {
   "cell_type": "markdown",
   "source": [
    "#### Storing API key securely\n",
    "- Store key for easy access\n",
    "- Protect from exposure to unwanted parties.\n"
   ],
   "metadata": {
    "collapsed": false,
    "pycharm": {
     "name": "#%% md\n"
    }
   }
  },
  {
   "cell_type": "markdown",
   "source": [
    "#### Procedure outline:\n",
    "\n",
    "- Create a hidden .secrets folder in your repository\n",
    "- Put your credentials in a file in the .secrets folder\n",
    "- Add the .secrets/ folder to the .gitignore file\n",
    "    \n",
    "    \n",
    "    "
   ],
   "metadata": {
    "collapsed": false,
    "pycharm": {
     "name": "#%% md\n"
    }
   }
  },
  {
   "cell_type": "markdown",
   "source": [
    "#### Make secrets directory"
   ],
   "metadata": {
    "collapsed": false,
    "pycharm": {
     "name": "#%% md\n"
    }
   }
  },
  {
   "cell_type": "code",
   "execution_count": null,
   "outputs": [],
   "source": [
    "%%bash\n",
    "mkdir .secrets"
   ],
   "metadata": {
    "collapsed": false,
    "pycharm": {
     "name": "#%%\n"
    }
   }
  },
  {
   "cell_type": "markdown",
   "source": [
    "#### Put credentials in authentication file."
   ],
   "metadata": {
    "collapsed": false,
    "pycharm": {
     "name": "#%% md\n"
    }
   }
  },
  {
   "cell_type": "code",
   "execution_count": null,
   "outputs": [],
   "source": [
    "%%bash \n",
    "echo '{ \"id\": \"tGVoFhwRPxjFm5P3MLxoGQ\", \"key\": \"\n",
    "N97WKV51Atwxh7Xzzs0gcamb7StB8_xYVSJunW9AlCYIWrZ6edaYF9EcoLQ7_rirS-3Afa8Lir9XnFT9lqJF0fGXFDKC4qOiy3ZnpRZDtKqBOY8oLBiOc6NJTSAmYnYx\" }' > .secrets/creds.json"
   ],
   "metadata": {
    "collapsed": false,
    "pycharm": {
     "name": "#%%\n"
    }
   }
  },
  {
   "cell_type": "markdown",
   "source": [
    "####  Move to .secrets folder"
   ],
   "metadata": {
    "collapsed": false,
    "pycharm": {
     "name": "#%% md\n"
    }
   }
  },
  {
   "cell_type": "code",
   "execution_count": null,
   "outputs": [],
   "source": [
    "%%bash \n",
    "#mv creds.json .secrets/"
   ],
   "metadata": {
    "collapsed": false,
    "pycharm": {
     "name": "#%%\n"
    }
   }
  },
  {
   "cell_type": "markdown",
   "source": [
    "#### Add the .secrets/ folder to the .gitignore file\n"
   ],
   "metadata": {
    "collapsed": false,
    "pycharm": {
     "name": "#%% md\n"
    }
   }
  },
  {
   "cell_type": "code",
   "execution_count": null,
   "outputs": [],
   "source": [
    "%%bash \n",
    "echo \".secrets/\" >> .gitignore"
   ],
   "metadata": {
    "collapsed": false,
    "pycharm": {
     "name": "#%%\n"
    }
   }
  },
  {
   "cell_type": "markdown",
   "source": [
    "#### Load API id + key"
   ],
   "metadata": {
    "collapsed": false,
    "pycharm": {
     "name": "#%% md\n"
    }
   }
  },
  {
   "cell_type": "code",
   "execution_count": null,
   "outputs": [],
   "source": [
    "import json\n",
    "with open('.secrets/creds.json') as f:\n",
    "    creds = json.load(f)"
   ],
   "metadata": {
    "collapsed": false,
    "pycharm": {
     "name": "#%%\n"
    }
   }
  },
  {
   "cell_type": "code",
   "execution_count": null,
   "outputs": [],
   "source": [
    "creds"
   ],
   "metadata": {
    "collapsed": false,
    "pycharm": {
     "name": "#%%\n"
    }
   }
  },
  {
   "cell_type": "markdown",
   "source": [
    "#### Making our Request\n",
    "\n",
    "Yelp API Guide: https://www.yelp.com/developers/documentation/v3/get_started\n",
    "\n",
    "Get first 10 results of business search in Yelp:\n",
    "- Pertaining to 'Hamburgers'\n",
    "- In Seattle.\n",
    "\n",
    "Authenticate request with key."
   ],
   "metadata": {
    "collapsed": false,
    "pycharm": {
     "name": "#%% md\n"
    }
   }
  },
  {
   "cell_type": "code",
   "execution_count": null,
   "outputs": [],
   "source": [
    "url = 'https://api.yelp.com/v3/businesses/search'\n",
    "term = 'Hamburgers'\n",
    "SEARCH_LIMIT = 10\n",
    "headers = {\n",
    "    'Authorization': 'Bearer ' + creds['key']\n",
    "}\n",
    "\n",
    "url_params = {\n",
    "    'term': term,\n",
    "    'location': 'Seattle+WA',\n",
    "    'limit': SEARCH_LIMIT,\n",
    "    'offset': 0\n",
    "}\n",
    "response = requests.get(url, headers=headers, params=url_params)\n",
    "print(response.status_code)"
   ],
   "metadata": {
    "collapsed": false,
    "pycharm": {
     "name": "#%%\n"
    }
   }
  },
  {
   "cell_type": "markdown",
   "source": [
    "Get the JSON data as dict!"
   ],
   "metadata": {
    "collapsed": false,
    "pycharm": {
     "name": "#%% md\n"
    }
   }
  },
  {
   "cell_type": "code",
   "execution_count": null,
   "outputs": [],
   "source": [
    "data_json = response.json()\n",
    "data_json['businesses']"
   ],
   "metadata": {
    "collapsed": false,
    "pycharm": {
     "name": "#%%\n"
    }
   }
  },
  {
   "cell_type": "markdown",
   "id": "3cae525c",
   "metadata": {
    "slideshow": {
     "slide_type": "slide"
    },
    "pycharm": {
     "name": "#%% md\n"
    }
   },
   "source": [
    "#### Now the fun commences\n",
    "Make a pandas DataFrame called yelp_df:\n",
    "- Explore the business data from the Yelp response \n",
    "- Use your pandas ninja skills. "
   ]
  }
 ],
 "metadata": {
  "celltoolbar": "Slideshow",
  "kernelspec": {
   "display_name": "Python 3 (ipykernel)",
   "language": "python",
   "name": "python3"
  },
  "language_info": {
   "codemirror_mode": {
    "name": "ipython",
    "version": 3
   },
   "file_extension": ".py",
   "mimetype": "text/x-python",
   "name": "python",
   "nbconvert_exporter": "python",
   "pygments_lexer": "ipython3",
   "version": "3.9.7"
  }
 },
 "nbformat": 4,
 "nbformat_minor": 5
}