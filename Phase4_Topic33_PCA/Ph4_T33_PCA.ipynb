{
 "cells": [
  {
   "cell_type": "markdown",
   "metadata": {
    "slideshow": {
     "slide_type": "slide"
    },
    "pycharm": {
     "name": "#%% md\n"
    }
   },
   "source": [
    "<div style=\"color:white;\n",
    "           display:fill;\n",
    "           border-radius:5px;\n",
    "           background-color:#5642C5;\n",
    "           font-size:200%;\n",
    "           font-family:Arial;letter-spacing:0.5px\">\n",
    "\n",
    "<p width = 20%, style=\"padding: 10px;\n",
    "              color:white;\">\n",
    "Principal Component Analysis\n",
    "              \n",
    "</p>\n",
    "</div>\n",
    "\n",
    "Data Science Cohort Live NYC Feb 2022\n",
    "<p>Phase 4: Topic 33</p>\n",
    "<br>\n",
    "<br>\n",
    "\n",
    "<div align = \"right\">\n",
    "<img src=\"Images/flatiron-school-logo.png\" align = \"right\" width=\"200\"/>\n",
    "</div>\n",
    "    \n",
    "    "
   ]
  },
  {
   "cell_type": "code",
   "execution_count": 39,
   "metadata": {
    "hidden": true,
    "slideshow": {
     "slide_type": "skip"
    },
    "pycharm": {
     "name": "#%%\n"
    }
   },
   "outputs": [],
   "source": [
    "from scipy.special import gamma\n",
    "import pandas as pd\n",
    "import numpy as np\n",
    "import matplotlib.pyplot as plt\n",
    "import seaborn as sns\n",
    "\n",
    "from sklearn.preprocessing import StandardScaler, OneHotEncoder\n",
    "from sklearn.impute import SimpleImputer\n",
    "from sklearn.model_selection import train_test_split\n",
    "from sklearn.linear_model import LinearRegression\n",
    "from sklearn.compose import ColumnTransformer\n",
    "from sklearn.pipeline import Pipeline\n",
    "from sklearn.decomposition import PCA\n",
    "from matplotlib import pyplot as plt\n",
    "import seaborn as sns\n",
    "import statsmodels as sm\n",
    "from statsmodels.regression.linear_model import OLS\n",
    "from sklearn.metrics import mean_squared_error as mse\n",
    "\n",
    "%matplotlib inline"
   ]
  },
  {
   "cell_type": "markdown",
   "metadata": {
    "heading_collapsed": true,
    "slideshow": {
     "slide_type": "slide"
    },
    "pycharm": {
     "name": "#%% md\n"
    }
   },
   "source": [
    "#### Motivation: The curse of dimensionality"
   ]
  },
  {
   "cell_type": "code",
   "execution_count": 40,
   "metadata": {
    "slideshow": {
     "slide_type": "skip"
    },
    "pycharm": {
     "name": "#%%\n"
    }
   },
   "outputs": [],
   "source": [
    "\n",
    "%%capture cod\n",
    "\n",
    "def sphere_calc(m, R):\n",
    "    numerator = (R**m * np.pi**(m/2))\n",
    "    denom = gamma(m/2 + 1)\n",
    "    \n",
    "    return numerator/denom\n",
    "\n",
    "dim_list = pd.Series(np.arange(1,21))\n",
    "sph_vol_list = dim_list.map(lambda M: sphere_calc(M, 2)) # get +- 2 std of standardized variables\n",
    "\n",
    "density_vs_dim = 5000/sph_vol_list\n",
    "fig, ax = plt.subplots()\n",
    "sns.lineplot(x = density_vs_dim.index, y = density_vs_dim.values, ax = ax)\n",
    "ax.set_ylabel('Point density')\n",
    "ax.set_xlabel('Number of Features')\n",
    "ax.set_title('Point density:  feature dimension scaling')\n",
    "plt.show()"
   ]
  },
  {
   "cell_type": "markdown",
   "metadata": {
    "cell_style": "split",
    "hidden": true,
    "slideshow": {
     "slide_type": "slide"
    },
    "pycharm": {
     "name": "#%% md\n"
    }
   },
   "source": [
    "\n",
    "- Need good statistical sampling in feature space for training\n",
    "- Dataset becomes sparse in high dimension. Hard to do statistical learning.\n"
   ]
  },
  {
   "cell_type": "code",
   "execution_count": 41,
   "metadata": {
    "cell_style": "split",
    "slideshow": {
     "slide_type": "fragment"
    },
    "pycharm": {
     "name": "#%%\n"
    }
   },
   "outputs": [
    {
     "data": {
      "text/plain": "<Figure size 640x480 with 1 Axes>",
      "image/png": "[encoded data removed]"
     },
     "metadata": {},
     "output_type": "display_data"
    }
   ],
   "source": [
    "cod()"
   ]
  },
  {
   "cell_type": "markdown",
   "metadata": {
    "cell_style": "split",
    "slideshow": {
     "slide_type": "slide"
    },
    "pycharm": {
     "name": "#%% md\n"
    }
   },
   "source": [
    "Small numbers (low density):\n",
    "\n",
    "- large sample-to-sample fluctuations.\n",
    "\n",
    "High variance from dimensionality: hard to train model that generalizes.\n"
   ]
  },
  {
   "cell_type": "markdown",
   "metadata": {
    "cell_style": "split",
    "slideshow": {
     "slide_type": "fragment"
    },
    "pycharm": {
     "name": "#%% md\n"
    }
   },
   "source": [
    "Another issue in data with a ton of features:\n",
    "- many of the features likely correlated with each other\n",
    "- high variance\n"
   ]
  },
  {
   "cell_type": "markdown",
   "metadata": {
    "cell_style": "center",
    "slideshow": {
     "slide_type": "slide"
    },
    "pycharm": {
     "name": "#%% md\n"
    }
   },
   "source": [
    "Could keep all variables and regularize.\n",
    "   "
   ]
  },
  {
   "cell_type": "markdown",
   "metadata": {
    "cell_style": "center",
    "slideshow": {
     "slide_type": "subslide"
    },
    "pycharm": {
     "name": "#%% md\n"
    }
   },
   "source": [
    "Or could figure out how to reduce dimension:\n",
    "\n",
    "- construct smaller set of variables that are combinations of original variables.\n",
    "- largely account for variation scale and correlations of features with this smaller set.\n",
    "- i.e., reduce dim, preserve as much information as possible"
   ]
  },
  {
   "cell_type": "markdown",
   "metadata": {
    "slideshow": {
     "slide_type": "slide"
    },
    "pycharm": {
     "name": "#%% md\n"
    }
   },
   "source": [
    "#### Principal Component Analysis (PCA)"
   ]
  },
  {
   "cell_type": "markdown",
   "metadata": {
    "cell_style": "split",
    "slideshow": {
     "slide_type": "fragment"
    },
    "pycharm": {
     "name": "#%% md\n"
    }
   },
   "source": [
    "<img src = \"Images/PCA_basics.gif\" width = 500 />"
   ]
  },
  {
   "cell_type": "markdown",
   "metadata": {
    "cell_style": "split",
    "slideshow": {
     "slide_type": "fragment"
    },
    "pycharm": {
     "name": "#%% md\n"
    }
   },
   "source": [
    "- Rotate to new coordinate system: \n",
    "    - directions characteristic of data spread in various dimensions.\n",
    "    - new features uncorrelated (perpendicular)\n",
    "- Find direction(s) of maximum variance:\n",
    "    - project data onto this lower-D space."
   ]
  },
  {
   "cell_type": "markdown",
   "metadata": {
    "cell_style": "center",
    "slideshow": {
     "slide_type": "subslide"
    },
    "pycharm": {
     "name": "#%% md\n"
    }
   },
   "source": [
    "Often doing this in much higher-D spaces.\n",
    "- Very surprising how low the dimensionality capturing most of the feature variance can be."
   ]
  },
  {
   "cell_type": "markdown",
   "metadata": {
    "hidden": true,
    "slideshow": {
     "slide_type": "slide"
    },
    "pycharm": {
     "name": "#%% md\n"
    }
   },
   "source": [
    "Let's try an implement within given situation:\n",
    "\n",
    "- Predict the cost to ship a package based on its features. "
   ]
  },
  {
   "cell_type": "code",
   "execution_count": 42,
   "metadata": {
    "cell_style": "split",
    "hidden": true,
    "scrolled": true,
    "slideshow": {
     "slide_type": "fragment"
    },
    "pycharm": {
     "name": "#%%\n"
    }
   },
   "outputs": [
    {
     "data": {
      "text/plain": "   Shipping Cost ($)  Length (in)  Width (in)  Height (in)  Weight (lb)  \\\n0                 24           36          32            9           18   \n1                 38           41          31           12           18   \n2                 38           34          34           15           24   \n\n   Distance (mi)  \n0           1079  \n1           1797  \n2           1722  ",
      "text/html": "<div>\n<style scoped>\n    .dataframe tbody tr th:only-of-type {\n        vertical-align: middle;\n    }\n\n    .dataframe tbody tr th {\n        vertical-align: top;\n    }\n\n    .dataframe thead th {\n        text-align: right;\n    }\n</style>\n<table border=\"1\" class=\"dataframe\">\n  <thead>\n    <tr style=\"text-align: right;\">\n      <th></th>\n      <th>Shipping Cost ($)</th>\n      <th>Length (in)</th>\n      <th>Width (in)</th>\n      <th>Height (in)</th>\n      <th>Weight (lb)</th>\n      <th>Distance (mi)</th>\n    </tr>\n  </thead>\n  <tbody>\n    <tr>\n      <th>0</th>\n      <td>24</td>\n      <td>36</td>\n      <td>32</td>\n      <td>9</td>\n      <td>18</td>\n      <td>1079</td>\n    </tr>\n    <tr>\n      <th>1</th>\n      <td>38</td>\n      <td>41</td>\n      <td>31</td>\n      <td>12</td>\n      <td>18</td>\n      <td>1797</td>\n    </tr>\n    <tr>\n      <th>2</th>\n      <td>38</td>\n      <td>34</td>\n      <td>34</td>\n      <td>15</td>\n      <td>24</td>\n      <td>1722</td>\n    </tr>\n  </tbody>\n</table>\n</div>"
     },
     "execution_count": 42,
     "metadata": {},
     "output_type": "execute_result"
    }
   ],
   "source": [
    "packages = pd.read_csv('data/packages.csv')\n",
    "packages.head(3)"
   ]
  },
  {
   "cell_type": "code",
   "execution_count": 43,
   "metadata": {
    "cell_style": "split",
    "slideshow": {
     "slide_type": "fragment"
    },
    "pycharm": {
     "name": "#%%\n"
    }
   },
   "outputs": [
    {
     "name": "stdout",
     "output_type": "stream",
     "text": [
      "<class 'pandas.core.frame.DataFrame'>\n",
      "RangeIndex: 30 entries, 0 to 29\n",
      "Data columns (total 6 columns):\n",
      " #   Column             Non-Null Count  Dtype\n",
      "---  ------             --------------  -----\n",
      " 0   Shipping Cost ($)  30 non-null     int64\n",
      " 1   Length (in)        30 non-null     int64\n",
      " 2   Width (in)         30 non-null     int64\n",
      " 3   Height (in)        30 non-null     int64\n",
      " 4   Weight (lb)        30 non-null     int64\n",
      " 5   Distance (mi)      30 non-null     int64\n",
      "dtypes: int64(6)\n",
      "memory usage: 1.5 KB\n"
     ]
    }
   ],
   "source": [
    "packages.info()"
   ]
  },
  {
   "cell_type": "markdown",
   "metadata": {
    "cell_style": "split",
    "slideshow": {
     "slide_type": "fragment"
    },
    "pycharm": {
     "name": "#%% md\n"
    }
   },
   "source": [
    "- Quite a few features for a small dataset,\n",
    "- Also: likely that physical dimensions are correlated"
   ]
  },
  {
   "cell_type": "markdown",
   "metadata": {
    "slideshow": {
     "slide_type": "slide"
    },
    "pycharm": {
     "name": "#%% md\n"
    }
   },
   "source": [
    "Check out those correlations:"
   ]
  },
  {
   "cell_type": "code",
   "execution_count": 44,
   "metadata": {
    "cell_style": "split",
    "hidden": true,
    "slideshow": {
     "slide_type": "subslide"
    },
    "pycharm": {
     "name": "#%%\n"
    }
   },
   "outputs": [
    {
     "data": {
      "text/plain": "<Figure size 640x480 with 2 Axes>",
      "image/png": "[encoded data removed]"
     },
     "metadata": {},
     "output_type": "display_data"
    }
   ],
   "source": [
    "sns.heatmap(packages.corr(),\n",
    "            annot=True,\n",
    "            fmt='0.2g',\n",
    "            vmin=-1,\n",
    "            vmax=1,\n",
    "            center=0,\n",
    "            cmap='coolwarm');"
   ]
  },
  {
   "cell_type": "markdown",
   "metadata": {
    "cell_style": "split",
    "slideshow": {
     "slide_type": "fragment"
    },
    "pycharm": {
     "name": "#%% md\n"
    }
   },
   "source": [
    "Very high correlations between the different physical package characteristics.\n",
    "\n",
    "- Some combination of variables as one variable:\n",
    "- Another set for the other."
   ]
  },
  {
   "cell_type": "markdown",
   "metadata": {
    "cell_style": "split",
    "slideshow": {
     "slide_type": "fragment"
    },
    "pycharm": {
     "name": "#%% md\n"
    }
   },
   "source": [
    "- One as strong mixture of physical features\n",
    "- other dominated by Distance.\n",
    "    "
   ]
  },
  {
   "cell_type": "markdown",
   "metadata": {
    "slideshow": {
     "slide_type": "slide"
    },
    "pycharm": {
     "name": "#%% md\n"
    }
   },
   "source": [
    "Visualizing: looks like a linear regression might work.\n",
    "- But don't drop all features except length\n",
    "- More principled way."
   ]
  },
  {
   "cell_type": "code",
   "execution_count": 45,
   "metadata": {
    "hidden": true,
    "scrolled": true,
    "slideshow": {
     "slide_type": "-"
    },
    "pycharm": {
     "name": "#%%\n"
    }
   },
   "outputs": [
    {
     "data": {
      "text/plain": "<Figure size 640x480 with 1 Axes>",
      "image/png": "[encoded data removed]"
     },
     "metadata": {},
     "output_type": "display_data"
    }
   ],
   "source": [
    "packages.plot(kind='scatter', y='Shipping Cost ($)', x='Length (in)');"
   ]
  },
  {
   "cell_type": "markdown",
   "metadata": {
    "slideshow": {
     "slide_type": "slide"
    },
    "pycharm": {
     "name": "#%% md\n"
    }
   },
   "source": [
    "First let's train-test split:"
   ]
  },
  {
   "cell_type": "code",
   "execution_count": 46,
   "metadata": {
    "slideshow": {
     "slide_type": "fragment"
    },
    "pycharm": {
     "name": "#%%\n"
    }
   },
   "outputs": [],
   "source": [
    "X = packages.drop(columns = ['Shipping Cost ($)'])\n",
    "y = packages['Shipping Cost ($)']\n",
    "\n",
    "X_train, X_test, y_train, y_test = train_test_split(X, y, test_size = 0.25)"
   ]
  },
  {
   "cell_type": "markdown",
   "metadata": {
    "cell_style": "center",
    "slideshow": {
     "slide_type": "slide"
    },
    "pycharm": {
     "name": "#%% md\n"
    }
   },
   "source": [
    "Now standardize our features:\n",
    "- Failing to do so makes finding directions of variance:\n",
    "    - dependent on scale of individual features\n",
    "- Want to understand directions of high data variance unbiased by the scale of individual features."
   ]
  },
  {
   "cell_type": "code",
   "execution_count": 47,
   "metadata": {
    "slideshow": {
     "slide_type": "fragment"
    },
    "pycharm": {
     "name": "#%%\n"
    }
   },
   "outputs": [],
   "source": [
    "scaler = StandardScaler()\n",
    "X_tr_norm = scaler.fit_transform(X_train)\n",
    "X_tt_norm = scaler.transform(X_test)"
   ]
  },
  {
   "cell_type": "markdown",
   "metadata": {
    "cell_style": "center",
    "hidden": true,
    "slideshow": {
     "slide_type": "slide"
    },
    "pycharm": {
     "name": "#%% md\n"
    }
   },
   "source": [
    "PCA: \n",
    "- relies on decomposing this **covariance matrix** $X^TX$ of scaled/centered data:"
   ]
  },
  {
   "cell_type": "code",
   "execution_count": 77,
   "outputs": [
    {
     "data": {
      "text/plain": "22"
     },
     "execution_count": 77,
     "metadata": {},
     "output_type": "execute_result"
    }
   ],
   "source": [
    "N_tr"
   ],
   "metadata": {
    "collapsed": false,
    "pycharm": {
     "name": "#%%\n"
    }
   }
  },
  {
   "cell_type": "code",
   "execution_count": 48,
   "metadata": {
    "scrolled": true,
    "slideshow": {
     "slide_type": "fragment"
    },
    "pycharm": {
     "name": "#%%\n"
    }
   },
   "outputs": [
    {
     "data": {
      "text/plain": "array([[ 1.        ,  0.82876856,  0.69986365,  0.73256997,  0.24029336],\n       [ 0.82876856,  1.        ,  0.83619184,  0.7473403 ,  0.13442122],\n       [ 0.69986365,  0.83619184,  1.        ,  0.87645733,  0.03748172],\n       [ 0.73256997,  0.7473403 ,  0.87645733,  1.        , -0.05627285],\n       [ 0.24029336,  0.13442122,  0.03748172, -0.05627285,  1.        ]])"
     },
     "execution_count": 48,
     "metadata": {},
     "output_type": "execute_result"
    }
   ],
   "source": [
    "N_tr = X_tr_norm.shape[0]\n",
    "Xcov = (X_tr_norm.T@X_tr_norm)/N_tr\n",
    "Xcov"
   ]
  },
  {
   "cell_type": "markdown",
   "metadata": {
    "slideshow": {
     "slide_type": "slide"
    },
    "pycharm": {
     "name": "#%% md\n"
    }
   },
   "source": [
    "This really nothing more than the Pearson correlation matrix"
   ]
  },
  {
   "cell_type": "code",
   "execution_count": 49,
   "metadata": {
    "cell_style": "split",
    "scrolled": true,
    "slideshow": {
     "slide_type": "fragment"
    },
    "pycharm": {
     "name": "#%%\n"
    }
   },
   "outputs": [
    {
     "data": {
      "text/plain": "               Length (in)  Width (in)  Height (in)  Weight (lb)  \\\nLength (in)       1.000000    0.828769     0.699864     0.732570   \nWidth (in)        0.828769    1.000000     0.836192     0.747340   \nHeight (in)       0.699864    0.836192     1.000000     0.876457   \nWeight (lb)       0.732570    0.747340     0.876457     1.000000   \nDistance (mi)     0.240293    0.134421     0.037482    -0.056273   \n\n               Distance (mi)  \nLength (in)         0.240293  \nWidth (in)          0.134421  \nHeight (in)         0.037482  \nWeight (lb)        -0.056273  \nDistance (mi)       1.000000  ",
      "text/html": "<div>\n<style scoped>\n    .dataframe tbody tr th:only-of-type {\n        vertical-align: middle;\n    }\n\n    .dataframe tbody tr th {\n        vertical-align: top;\n    }\n\n    .dataframe thead th {\n        text-align: right;\n    }\n</style>\n<table border=\"1\" class=\"dataframe\">\n  <thead>\n    <tr style=\"text-align: right;\">\n      <th></th>\n      <th>Length (in)</th>\n      <th>Width (in)</th>\n      <th>Height (in)</th>\n      <th>Weight (lb)</th>\n      <th>Distance (mi)</th>\n    </tr>\n  </thead>\n  <tbody>\n    <tr>\n      <th>Length (in)</th>\n      <td>1.000000</td>\n      <td>0.828769</td>\n      <td>0.699864</td>\n      <td>0.732570</td>\n      <td>0.240293</td>\n    </tr>\n    <tr>\n      <th>Width (in)</th>\n      <td>0.828769</td>\n      <td>1.000000</td>\n      <td>0.836192</td>\n      <td>0.747340</td>\n      <td>0.134421</td>\n    </tr>\n    <tr>\n      <th>Height (in)</th>\n      <td>0.699864</td>\n      <td>0.836192</td>\n      <td>1.000000</td>\n      <td>0.876457</td>\n      <td>0.037482</td>\n    </tr>\n    <tr>\n      <th>Weight (lb)</th>\n      <td>0.732570</td>\n      <td>0.747340</td>\n      <td>0.876457</td>\n      <td>1.000000</td>\n      <td>-0.056273</td>\n    </tr>\n    <tr>\n      <th>Distance (mi)</th>\n      <td>0.240293</td>\n      <td>0.134421</td>\n      <td>0.037482</td>\n      <td>-0.056273</td>\n      <td>1.000000</td>\n    </tr>\n  </tbody>\n</table>\n</div>"
     },
     "execution_count": 49,
     "metadata": {},
     "output_type": "execute_result"
    }
   ],
   "source": [
    "X_train.corr()"
   ]
  },
  {
   "cell_type": "code",
   "execution_count": 50,
   "metadata": {
    "cell_style": "split",
    "slideshow": {
     "slide_type": "fragment"
    },
    "pycharm": {
     "name": "#%%\n"
    }
   },
   "outputs": [
    {
     "data": {
      "text/plain": "array([[ 1.        ,  0.82876856,  0.69986365,  0.73256997,  0.24029336],\n       [ 0.82876856,  1.        ,  0.83619184,  0.7473403 ,  0.13442122],\n       [ 0.69986365,  0.83619184,  1.        ,  0.87645733,  0.03748172],\n       [ 0.73256997,  0.7473403 ,  0.87645733,  1.        , -0.05627285],\n       [ 0.24029336,  0.13442122,  0.03748172, -0.05627285,  1.        ]])"
     },
     "execution_count": 50,
     "metadata": {},
     "output_type": "execute_result"
    }
   ],
   "source": [
    "Xcov"
   ]
  },
  {
   "cell_type": "markdown",
   "metadata": {
    "slideshow": {
     "slide_type": "slide"
    },
    "pycharm": {
     "name": "#%% md\n"
    }
   },
   "source": [
    "So first step of PCA"
   ]
  },
  {
   "cell_type": "markdown",
   "metadata": {
    "cell_style": "split",
    "slideshow": {
     "slide_type": "slide"
    },
    "pycharm": {
     "name": "#%% md\n"
    }
   },
   "source": [
    "Rotate coordinates: constructs new features\n",
    "\n",
    "Linear combination of old features:\n",
    "\n",
    "$$ \\begin{bmatrix} PC_1 \\\\ PC_2 \\end{bmatrix} = \\begin{bmatrix} \\cos(\\phi) & -\\sin(\\phi) \\\\ \\sin(\\phi) & \\cos(\\phi) \\end{bmatrix}\\begin{bmatrix} X_1 \\\\ X_2 \\end{bmatrix}  $$"
   ]
  },
  {
   "cell_type": "markdown",
   "metadata": {
    "cell_style": "split",
    "slideshow": {
     "slide_type": "fragment"
    },
    "pycharm": {
     "name": "#%% md\n"
    }
   },
   "source": [
    "<img src = \"Images/PCA_closeup.png\" />"
   ]
  },
  {
   "cell_type": "markdown",
   "metadata": {
    "cell_style": "split",
    "slideshow": {
     "slide_type": "slide"
    },
    "pycharm": {
     "name": "#%% md\n"
    }
   },
   "source": [
    "In rotated frame:\n",
    "    \n",
    "- New features not correlated.\n",
    "\n",
    "<img src = \"Images/pca_rot.jpg\" width = 350 />"
   ]
  },
  {
   "cell_type": "markdown",
   "metadata": {
    "cell_style": "split",
    "slideshow": {
     "slide_type": "fragment"
    },
    "pycharm": {
     "name": "#%% md\n"
    }
   },
   "source": [
    "Getting variance matrix in new coordinate system:\n",
    "- Get variance along specific PC1, PC2"
   ]
  },
  {
   "cell_type": "markdown",
   "metadata": {
    "cell_style": "split",
    "slideshow": {
     "slide_type": "fragment"
    },
    "pycharm": {
     "name": "#%% md\n"
    }
   },
   "source": [
    "Finds characteristic (eigen) directions of variance and gets (eigen) values of the variance along characteristic directions"
   ]
  },
  {
   "cell_type": "code",
   "execution_count": 51,
   "metadata": {
    "cell_style": "split",
    "slideshow": {
     "slide_type": "fragment"
    },
    "pycharm": {
     "name": "#%%\n"
    }
   },
   "outputs": [],
   "source": [
    "from numpy import linalg\n",
    "eig, eigvecs = linalg.eig(Xcov)"
   ]
  },
  {
   "cell_type": "markdown",
   "metadata": {
    "slideshow": {
     "slide_type": "slide"
    },
    "pycharm": {
     "name": "#%% md\n"
    }
   },
   "source": [
    "Covariance matrix in new, rotated coordinate system"
   ]
  },
  {
   "cell_type": "code",
   "execution_count": 52,
   "metadata": {
    "scrolled": true,
    "slideshow": {
     "slide_type": "fragment"
    },
    "pycharm": {
     "name": "#%%\n"
    }
   },
   "outputs": [
    {
     "data": {
      "text/plain": "          PC0       PC1       PC2      PC3       PC4\nPC0  3.374881  0.000000  0.000000  0.00000  0.000000\nPC1  0.000000  1.056064  0.000000  0.00000  0.000000\nPC2  0.000000  0.000000  0.068657  0.00000  0.000000\nPC3  0.000000  0.000000  0.000000  0.29621  0.000000\nPC4  0.000000  0.000000  0.000000  0.00000  0.204188",
      "text/html": "<div>\n<style scoped>\n    .dataframe tbody tr th:only-of-type {\n        vertical-align: middle;\n    }\n\n    .dataframe tbody tr th {\n        vertical-align: top;\n    }\n\n    .dataframe thead th {\n        text-align: right;\n    }\n</style>\n<table border=\"1\" class=\"dataframe\">\n  <thead>\n    <tr style=\"text-align: right;\">\n      <th></th>\n      <th>PC0</th>\n      <th>PC1</th>\n      <th>PC2</th>\n      <th>PC3</th>\n      <th>PC4</th>\n    </tr>\n  </thead>\n  <tbody>\n    <tr>\n      <th>PC0</th>\n      <td>3.374881</td>\n      <td>0.000000</td>\n      <td>0.000000</td>\n      <td>0.00000</td>\n      <td>0.000000</td>\n    </tr>\n    <tr>\n      <th>PC1</th>\n      <td>0.000000</td>\n      <td>1.056064</td>\n      <td>0.000000</td>\n      <td>0.00000</td>\n      <td>0.000000</td>\n    </tr>\n    <tr>\n      <th>PC2</th>\n      <td>0.000000</td>\n      <td>0.000000</td>\n      <td>0.068657</td>\n      <td>0.00000</td>\n      <td>0.000000</td>\n    </tr>\n    <tr>\n      <th>PC3</th>\n      <td>0.000000</td>\n      <td>0.000000</td>\n      <td>0.000000</td>\n      <td>0.29621</td>\n      <td>0.000000</td>\n    </tr>\n    <tr>\n      <th>PC4</th>\n      <td>0.000000</td>\n      <td>0.000000</td>\n      <td>0.000000</td>\n      <td>0.00000</td>\n      <td>0.204188</td>\n    </tr>\n  </tbody>\n</table>\n</div>"
     },
     "execution_count": 52,
     "metadata": {},
     "output_type": "execute_result"
    }
   ],
   "source": [
    "colname = ['PC' + str(n) for n in range(len(Xcov)) ]\n",
    "Xcov_PCA = pd.DataFrame(np.diag(eig), index = colname, columns = colname)\n",
    "Xcov_PCA"
   ]
  },
  {
   "cell_type": "markdown",
   "metadata": {
    "slideshow": {
     "slide_type": "slide"
    },
    "pycharm": {
     "name": "#%% md\n"
    }
   },
   "source": [
    "The components of the principal directions in terms of original features:"
   ]
  },
  {
   "cell_type": "code",
   "execution_count": 53,
   "metadata": {
    "cell_style": "split",
    "slideshow": {
     "slide_type": "fragment"
    },
    "pycharm": {
     "name": "#%%\n"
    }
   },
   "outputs": [
    {
     "data": {
      "text/plain": "     Length (in)  Width (in)  Height (in)  Weight (lb)  Distance (mi)\nPC0     0.486250    0.507600     0.505728     0.494609       0.074192\nPC1     0.171266    0.034413    -0.125341    -0.218316       0.951899\nPC2     0.367087   -0.471308     0.621395    -0.500273      -0.081922\nPC3     0.654430    0.294036    -0.508796    -0.382433      -0.283082\nPC4     0.413759   -0.657700    -0.289005     0.557828       0.039216",
      "text/html": "<div>\n<style scoped>\n    .dataframe tbody tr th:only-of-type {\n        vertical-align: middle;\n    }\n\n    .dataframe tbody tr th {\n        vertical-align: top;\n    }\n\n    .dataframe thead th {\n        text-align: right;\n    }\n</style>\n<table border=\"1\" class=\"dataframe\">\n  <thead>\n    <tr style=\"text-align: right;\">\n      <th></th>\n      <th>Length (in)</th>\n      <th>Width (in)</th>\n      <th>Height (in)</th>\n      <th>Weight (lb)</th>\n      <th>Distance (mi)</th>\n    </tr>\n  </thead>\n  <tbody>\n    <tr>\n      <th>PC0</th>\n      <td>0.486250</td>\n      <td>0.507600</td>\n      <td>0.505728</td>\n      <td>0.494609</td>\n      <td>0.074192</td>\n    </tr>\n    <tr>\n      <th>PC1</th>\n      <td>0.171266</td>\n      <td>0.034413</td>\n      <td>-0.125341</td>\n      <td>-0.218316</td>\n      <td>0.951899</td>\n    </tr>\n    <tr>\n      <th>PC2</th>\n      <td>0.367087</td>\n      <td>-0.471308</td>\n      <td>0.621395</td>\n      <td>-0.500273</td>\n      <td>-0.081922</td>\n    </tr>\n    <tr>\n      <th>PC3</th>\n      <td>0.654430</td>\n      <td>0.294036</td>\n      <td>-0.508796</td>\n      <td>-0.382433</td>\n      <td>-0.283082</td>\n    </tr>\n    <tr>\n      <th>PC4</th>\n      <td>0.413759</td>\n      <td>-0.657700</td>\n      <td>-0.289005</td>\n      <td>0.557828</td>\n      <td>0.039216</td>\n    </tr>\n  </tbody>\n</table>\n</div>"
     },
     "execution_count": 53,
     "metadata": {},
     "output_type": "execute_result"
    }
   ],
   "source": [
    "pc_comp = pd.DataFrame(eigvecs.T,\n",
    "                       index = colname,\n",
    "                       columns = X_train.columns)\n",
    "pc_comp"
   ]
  },
  {
   "cell_type": "markdown",
   "metadata": {
    "cell_style": "split",
    "slideshow": {
     "slide_type": "fragment"
    },
    "pycharm": {
     "name": "#%% md\n"
    }
   },
   "source": [
    "PCs are mixtures of original features:\n",
    "- In our case very equally distributed across different features.\n",
    "- PCs are usually NOT interpretable"
   ]
  },
  {
   "cell_type": "markdown",
   "metadata": {
    "hidden": true,
    "slideshow": {
     "slide_type": "slide"
    },
    "pycharm": {
     "name": "#%% md\n"
    }
   },
   "source": [
    "Looking at the variance and principal components side-by-side"
   ]
  },
  {
   "cell_type": "code",
   "execution_count": 54,
   "metadata": {
    "cell_style": "split",
    "slideshow": {
     "slide_type": "fragment"
    },
    "pycharm": {
     "name": "#%%\n"
    }
   },
   "outputs": [
    {
     "data": {
      "text/plain": "          PC0       PC1       PC2      PC3       PC4\nPC0  3.374881  0.000000  0.000000  0.00000  0.000000\nPC1  0.000000  1.056064  0.000000  0.00000  0.000000\nPC2  0.000000  0.000000  0.068657  0.00000  0.000000\nPC3  0.000000  0.000000  0.000000  0.29621  0.000000\nPC4  0.000000  0.000000  0.000000  0.00000  0.204188",
      "text/html": "<div>\n<style scoped>\n    .dataframe tbody tr th:only-of-type {\n        vertical-align: middle;\n    }\n\n    .dataframe tbody tr th {\n        vertical-align: top;\n    }\n\n    .dataframe thead th {\n        text-align: right;\n    }\n</style>\n<table border=\"1\" class=\"dataframe\">\n  <thead>\n    <tr style=\"text-align: right;\">\n      <th></th>\n      <th>PC0</th>\n      <th>PC1</th>\n      <th>PC2</th>\n      <th>PC3</th>\n      <th>PC4</th>\n    </tr>\n  </thead>\n  <tbody>\n    <tr>\n      <th>PC0</th>\n      <td>3.374881</td>\n      <td>0.000000</td>\n      <td>0.000000</td>\n      <td>0.00000</td>\n      <td>0.000000</td>\n    </tr>\n    <tr>\n      <th>PC1</th>\n      <td>0.000000</td>\n      <td>1.056064</td>\n      <td>0.000000</td>\n      <td>0.00000</td>\n      <td>0.000000</td>\n    </tr>\n    <tr>\n      <th>PC2</th>\n      <td>0.000000</td>\n      <td>0.000000</td>\n      <td>0.068657</td>\n      <td>0.00000</td>\n      <td>0.000000</td>\n    </tr>\n    <tr>\n      <th>PC3</th>\n      <td>0.000000</td>\n      <td>0.000000</td>\n      <td>0.000000</td>\n      <td>0.29621</td>\n      <td>0.000000</td>\n    </tr>\n    <tr>\n      <th>PC4</th>\n      <td>0.000000</td>\n      <td>0.000000</td>\n      <td>0.000000</td>\n      <td>0.00000</td>\n      <td>0.204188</td>\n    </tr>\n  </tbody>\n</table>\n</div>"
     },
     "execution_count": 54,
     "metadata": {},
     "output_type": "execute_result"
    }
   ],
   "source": [
    "Xcov_PCA"
   ]
  },
  {
   "cell_type": "code",
   "execution_count": 55,
   "metadata": {
    "cell_style": "split",
    "slideshow": {
     "slide_type": "fragment"
    },
    "pycharm": {
     "name": "#%%\n"
    }
   },
   "outputs": [
    {
     "data": {
      "text/plain": "     Length (in)  Width (in)  Height (in)  Weight (lb)  Distance (mi)\nPC0     0.486250    0.507600     0.505728     0.494609       0.074192\nPC1     0.171266    0.034413    -0.125341    -0.218316       0.951899\nPC2     0.367087   -0.471308     0.621395    -0.500273      -0.081922\nPC3     0.654430    0.294036    -0.508796    -0.382433      -0.283082\nPC4     0.413759   -0.657700    -0.289005     0.557828       0.039216",
      "text/html": "<div>\n<style scoped>\n    .dataframe tbody tr th:only-of-type {\n        vertical-align: middle;\n    }\n\n    .dataframe tbody tr th {\n        vertical-align: top;\n    }\n\n    .dataframe thead th {\n        text-align: right;\n    }\n</style>\n<table border=\"1\" class=\"dataframe\">\n  <thead>\n    <tr style=\"text-align: right;\">\n      <th></th>\n      <th>Length (in)</th>\n      <th>Width (in)</th>\n      <th>Height (in)</th>\n      <th>Weight (lb)</th>\n      <th>Distance (mi)</th>\n    </tr>\n  </thead>\n  <tbody>\n    <tr>\n      <th>PC0</th>\n      <td>0.486250</td>\n      <td>0.507600</td>\n      <td>0.505728</td>\n      <td>0.494609</td>\n      <td>0.074192</td>\n    </tr>\n    <tr>\n      <th>PC1</th>\n      <td>0.171266</td>\n      <td>0.034413</td>\n      <td>-0.125341</td>\n      <td>-0.218316</td>\n      <td>0.951899</td>\n    </tr>\n    <tr>\n      <th>PC2</th>\n      <td>0.367087</td>\n      <td>-0.471308</td>\n      <td>0.621395</td>\n      <td>-0.500273</td>\n      <td>-0.081922</td>\n    </tr>\n    <tr>\n      <th>PC3</th>\n      <td>0.654430</td>\n      <td>0.294036</td>\n      <td>-0.508796</td>\n      <td>-0.382433</td>\n      <td>-0.283082</td>\n    </tr>\n    <tr>\n      <th>PC4</th>\n      <td>0.413759</td>\n      <td>-0.657700</td>\n      <td>-0.289005</td>\n      <td>0.557828</td>\n      <td>0.039216</td>\n    </tr>\n  </tbody>\n</table>\n</div>"
     },
     "execution_count": 55,
     "metadata": {},
     "output_type": "execute_result"
    }
   ],
   "source": [
    "pc_comp"
   ]
  },
  {
   "cell_type": "markdown",
   "metadata": {
    "cell_style": "center",
    "slideshow": {
     "slide_type": "fragment"
    },
    "pycharm": {
     "name": "#%% md\n"
    }
   },
   "source": [
    "No question that PC0 and PC1 dominate variance:\n",
    "\n",
    "- Most dominant always called **first principal component**\n",
    "- Second most dominant: **second principal component**, etc."
   ]
  },
  {
   "cell_type": "code",
   "execution_count": 56,
   "metadata": {
    "cell_style": "split",
    "scrolled": true,
    "slideshow": {
     "slide_type": "subslide"
    },
    "pycharm": {
     "name": "#%%\n"
    }
   },
   "outputs": [
    {
     "data": {
      "text/plain": "          PC0       PC1       PC2      PC3       PC4\nPC0  3.374881  0.000000  0.000000  0.00000  0.000000\nPC1  0.000000  1.056064  0.000000  0.00000  0.000000\nPC2  0.000000  0.000000  0.068657  0.00000  0.000000\nPC3  0.000000  0.000000  0.000000  0.29621  0.000000\nPC4  0.000000  0.000000  0.000000  0.00000  0.204188",
      "text/html": "<div>\n<style scoped>\n    .dataframe tbody tr th:only-of-type {\n        vertical-align: middle;\n    }\n\n    .dataframe tbody tr th {\n        vertical-align: top;\n    }\n\n    .dataframe thead th {\n        text-align: right;\n    }\n</style>\n<table border=\"1\" class=\"dataframe\">\n  <thead>\n    <tr style=\"text-align: right;\">\n      <th></th>\n      <th>PC0</th>\n      <th>PC1</th>\n      <th>PC2</th>\n      <th>PC3</th>\n      <th>PC4</th>\n    </tr>\n  </thead>\n  <tbody>\n    <tr>\n      <th>PC0</th>\n      <td>3.374881</td>\n      <td>0.000000</td>\n      <td>0.000000</td>\n      <td>0.00000</td>\n      <td>0.000000</td>\n    </tr>\n    <tr>\n      <th>PC1</th>\n      <td>0.000000</td>\n      <td>1.056064</td>\n      <td>0.000000</td>\n      <td>0.00000</td>\n      <td>0.000000</td>\n    </tr>\n    <tr>\n      <th>PC2</th>\n      <td>0.000000</td>\n      <td>0.000000</td>\n      <td>0.068657</td>\n      <td>0.00000</td>\n      <td>0.000000</td>\n    </tr>\n    <tr>\n      <th>PC3</th>\n      <td>0.000000</td>\n      <td>0.000000</td>\n      <td>0.000000</td>\n      <td>0.29621</td>\n      <td>0.000000</td>\n    </tr>\n    <tr>\n      <th>PC4</th>\n      <td>0.000000</td>\n      <td>0.000000</td>\n      <td>0.000000</td>\n      <td>0.00000</td>\n      <td>0.204188</td>\n    </tr>\n  </tbody>\n</table>\n</div>"
     },
     "execution_count": 56,
     "metadata": {},
     "output_type": "execute_result"
    }
   ],
   "source": [
    "Xcov_PCA"
   ]
  },
  {
   "cell_type": "code",
   "execution_count": 57,
   "metadata": {
    "cell_style": "split",
    "slideshow": {
     "slide_type": "fragment"
    },
    "pycharm": {
     "name": "#%%\n"
    }
   },
   "outputs": [
    {
     "data": {
      "text/plain": "     Length (in)  Width (in)  Height (in)  Weight (lb)  Distance (mi)\nPC0     0.486250    0.507600     0.505728     0.494609       0.074192\nPC1     0.171266    0.034413    -0.125341    -0.218316       0.951899\nPC2     0.367087   -0.471308     0.621395    -0.500273      -0.081922\nPC3     0.654430    0.294036    -0.508796    -0.382433      -0.283082\nPC4     0.413759   -0.657700    -0.289005     0.557828       0.039216",
      "text/html": "<div>\n<style scoped>\n    .dataframe tbody tr th:only-of-type {\n        vertical-align: middle;\n    }\n\n    .dataframe tbody tr th {\n        vertical-align: top;\n    }\n\n    .dataframe thead th {\n        text-align: right;\n    }\n</style>\n<table border=\"1\" class=\"dataframe\">\n  <thead>\n    <tr style=\"text-align: right;\">\n      <th></th>\n      <th>Length (in)</th>\n      <th>Width (in)</th>\n      <th>Height (in)</th>\n      <th>Weight (lb)</th>\n      <th>Distance (mi)</th>\n    </tr>\n  </thead>\n  <tbody>\n    <tr>\n      <th>PC0</th>\n      <td>0.486250</td>\n      <td>0.507600</td>\n      <td>0.505728</td>\n      <td>0.494609</td>\n      <td>0.074192</td>\n    </tr>\n    <tr>\n      <th>PC1</th>\n      <td>0.171266</td>\n      <td>0.034413</td>\n      <td>-0.125341</td>\n      <td>-0.218316</td>\n      <td>0.951899</td>\n    </tr>\n    <tr>\n      <th>PC2</th>\n      <td>0.367087</td>\n      <td>-0.471308</td>\n      <td>0.621395</td>\n      <td>-0.500273</td>\n      <td>-0.081922</td>\n    </tr>\n    <tr>\n      <th>PC3</th>\n      <td>0.654430</td>\n      <td>0.294036</td>\n      <td>-0.508796</td>\n      <td>-0.382433</td>\n      <td>-0.283082</td>\n    </tr>\n    <tr>\n      <th>PC4</th>\n      <td>0.413759</td>\n      <td>-0.657700</td>\n      <td>-0.289005</td>\n      <td>0.557828</td>\n      <td>0.039216</td>\n    </tr>\n  </tbody>\n</table>\n</div>"
     },
     "execution_count": 57,
     "metadata": {},
     "output_type": "execute_result"
    }
   ],
   "source": [
    "pc_comp"
   ]
  },
  {
   "cell_type": "markdown",
   "metadata": {
    "cell_style": "split",
    "slideshow": {
     "slide_type": "fragment"
    },
    "pycharm": {
     "name": "#%% md\n"
    }
   },
   "source": [
    "- First principal component has high weight across all features.\n",
    "- Second weights distance (not physical package attribute)"
   ]
  },
  {
   "cell_type": "markdown",
   "metadata": {
    "cell_style": "split",
    "slideshow": {
     "slide_type": "fragment"
    },
    "pycharm": {
     "name": "#%% md\n"
    }
   },
   "source": [
    "Together enough to capture most variance."
   ]
  },
  {
   "cell_type": "markdown",
   "metadata": {
    "heading_collapsed": true,
    "hidden": true,
    "slideshow": {
     "slide_type": "slide"
    },
    "pycharm": {
     "name": "#%% md\n"
    }
   },
   "source": [
    "#### Orthogonality: formal way of saying something we know"
   ]
  },
  {
   "cell_type": "markdown",
   "metadata": {
    "cell_style": "split",
    "hidden": true,
    "slideshow": {
     "slide_type": "fragment"
    },
    "pycharm": {
     "name": "#%% md\n"
    }
   },
   "source": [
    "The directions we found are **orthogonal** or perpendicular to each other:\n",
    "- Same as saying: PCs are not correlated with each other.\n",
    "- In such a case: dot products between different PC vectors vanish.\n",
    "\n",
    "$$ \\textbf{u}\\cdot \\textbf{v} = \\textbf{u}^T\\textbf{v} = \\begin{bmatrix} u_1 & u_2 \\end{bmatrix}\\begin{bmatrix} v_1 \\\\ v_2 \\end{bmatrix}  = 0 $$\n",
    "\n",
    "$$ \\begin{bmatrix} 1 & -1 \\end{bmatrix}\\begin{bmatrix} 1 \\\\ 1 \\end{bmatrix}  = 0 $$\n"
   ]
  },
  {
   "cell_type": "markdown",
   "metadata": {
    "cell_style": "split",
    "slideshow": {
     "slide_type": "fragment"
    },
    "pycharm": {
     "name": "#%% md\n"
    }
   },
   "source": [
    "<img src = \"Images/pca_rot.jpg\" width = 350 />"
   ]
  },
  {
   "cell_type": "markdown",
   "metadata": {
    "cell_style": "split",
    "slideshow": {
     "slide_type": "slide"
    },
    "pycharm": {
     "name": "#%% md\n"
    }
   },
   "source": [
    "What we did:"
   ]
  },
  {
   "cell_type": "markdown",
   "metadata": {
    "cell_style": "split",
    "slideshow": {
     "slide_type": "fragment"
    },
    "pycharm": {
     "name": "#%% md\n"
    }
   },
   "source": [
    "<center><img src = \"Images/PCA_orth.png\" width = 350 /></center>"
   ]
  },
  {
   "cell_type": "code",
   "execution_count": 58,
   "metadata": {
    "cell_style": "split",
    "hidden": true,
    "slideshow": {
     "slide_type": "fragment"
    },
    "pycharm": {
     "name": "#%%\n"
    }
   },
   "outputs": [
    {
     "data": {
      "text/plain": "0.0"
     },
     "execution_count": 58,
     "metadata": {},
     "output_type": "execute_result"
    }
   ],
   "source": [
    "PC1 = eigvecs[:, 0]\n",
    "PC2 = eigvecs[:, 1]\n",
    "PC1.dot(PC2)"
   ]
  },
  {
   "cell_type": "markdown",
   "metadata": {
    "heading_collapsed": true,
    "hidden": true,
    "slideshow": {
     "slide_type": "slide"
    },
    "pycharm": {
     "name": "#%% md\n"
    }
   },
   "source": [
    "#### The final step: transforming the data"
   ]
  },
  {
   "cell_type": "markdown",
   "metadata": {
    "cell_style": "split",
    "hidden": true,
    "pycharm": {
     "name": "#%% md\n"
    }
   },
   "source": [
    "We will now use these principal components to create new features. \n",
    "- These features will be weighted sums (aka **linear combinations**) of existing features\n",
    "- Using the component weights from the eigenvectors."
   ]
  },
  {
   "cell_type": "markdown",
   "metadata": {
    "cell_style": "split",
    "pycharm": {
     "name": "#%% md\n"
    }
   },
   "source": [
    "Take first two PCs only: these **dominate** variance:\n",
    "- Capture most of feature space.\n",
    "- Decorrelated variables. Variance not an issue."
   ]
  },
  {
   "cell_type": "markdown",
   "metadata": {
    "hidden": true,
    "slideshow": {
     "slide_type": "slide"
    },
    "pycharm": {
     "name": "#%% md\n"
    }
   },
   "source": [
    "We will now create feature using the first 2 PCS: "
   ]
  },
  {
   "cell_type": "code",
   "execution_count": 59,
   "metadata": {
    "cell_style": "center",
    "hidden": true,
    "slideshow": {
     "slide_type": "fragment"
    },
    "pycharm": {
     "name": "#%%\n"
    }
   },
   "outputs": [
    {
     "data": {
      "text/plain": "     Length (in)  Width (in)  Height (in)  Weight (lb)  Distance (mi)\nPC0     0.486250    0.507600     0.505728     0.494609       0.074192\nPC1     0.171266    0.034413    -0.125341    -0.218316       0.951899\nPC2     0.367087   -0.471308     0.621395    -0.500273      -0.081922",
      "text/html": "<div>\n<style scoped>\n    .dataframe tbody tr th:only-of-type {\n        vertical-align: middle;\n    }\n\n    .dataframe tbody tr th {\n        vertical-align: top;\n    }\n\n    .dataframe thead th {\n        text-align: right;\n    }\n</style>\n<table border=\"1\" class=\"dataframe\">\n  <thead>\n    <tr style=\"text-align: right;\">\n      <th></th>\n      <th>Length (in)</th>\n      <th>Width (in)</th>\n      <th>Height (in)</th>\n      <th>Weight (lb)</th>\n      <th>Distance (mi)</th>\n    </tr>\n  </thead>\n  <tbody>\n    <tr>\n      <th>PC0</th>\n      <td>0.486250</td>\n      <td>0.507600</td>\n      <td>0.505728</td>\n      <td>0.494609</td>\n      <td>0.074192</td>\n    </tr>\n    <tr>\n      <th>PC1</th>\n      <td>0.171266</td>\n      <td>0.034413</td>\n      <td>-0.125341</td>\n      <td>-0.218316</td>\n      <td>0.951899</td>\n    </tr>\n    <tr>\n      <th>PC2</th>\n      <td>0.367087</td>\n      <td>-0.471308</td>\n      <td>0.621395</td>\n      <td>-0.500273</td>\n      <td>-0.081922</td>\n    </tr>\n  </tbody>\n</table>\n</div>"
     },
     "execution_count": 59,
     "metadata": {},
     "output_type": "execute_result"
    }
   ],
   "source": [
    "firstthree = pc_comp.iloc[0:3]\n",
    "firstthree"
   ]
  },
  {
   "cell_type": "markdown",
   "metadata": {
    "cell_style": "split",
    "slideshow": {
     "slide_type": "slide"
    },
    "pycharm": {
     "name": "#%% md\n"
    }
   },
   "source": [
    "<img src = \"Images/PCA_basics.gif\" width = 500 />"
   ]
  },
  {
   "cell_type": "markdown",
   "metadata": {
    "cell_style": "split",
    "slideshow": {
     "slide_type": "fragment"
    },
    "pycharm": {
     "name": "#%% md\n"
    }
   },
   "source": [
    "Projecting the data onto these principal components"
   ]
  },
  {
   "cell_type": "code",
   "execution_count": 60,
   "metadata": {
    "cell_style": "split",
    "hidden": true,
    "slideshow": {
     "slide_type": "fragment"
    },
    "pycharm": {
     "name": "#%%\n"
    }
   },
   "outputs": [
    {
     "data": {
      "text/plain": "        PC0       PC1       PC2\n0 -0.673790  1.197716  0.026436\n1  1.377149 -0.234974  0.649830\n2 -3.618557 -1.631426 -0.274939\n3 -2.183017 -1.416152 -0.090291\n4  0.652042  0.210061 -0.241354",
      "text/html": "<div>\n<style scoped>\n    .dataframe tbody tr th:only-of-type {\n        vertical-align: middle;\n    }\n\n    .dataframe tbody tr th {\n        vertical-align: top;\n    }\n\n    .dataframe thead th {\n        text-align: right;\n    }\n</style>\n<table border=\"1\" class=\"dataframe\">\n  <thead>\n    <tr style=\"text-align: right;\">\n      <th></th>\n      <th>PC0</th>\n      <th>PC1</th>\n      <th>PC2</th>\n    </tr>\n  </thead>\n  <tbody>\n    <tr>\n      <th>0</th>\n      <td>-0.673790</td>\n      <td>1.197716</td>\n      <td>0.026436</td>\n    </tr>\n    <tr>\n      <th>1</th>\n      <td>1.377149</td>\n      <td>-0.234974</td>\n      <td>0.649830</td>\n    </tr>\n    <tr>\n      <th>2</th>\n      <td>-3.618557</td>\n      <td>-1.631426</td>\n      <td>-0.274939</td>\n    </tr>\n    <tr>\n      <th>3</th>\n      <td>-2.183017</td>\n      <td>-1.416152</td>\n      <td>-0.090291</td>\n    </tr>\n    <tr>\n      <th>4</th>\n      <td>0.652042</td>\n      <td>0.210061</td>\n      <td>-0.241354</td>\n    </tr>\n  </tbody>\n</table>\n</div>"
     },
     "execution_count": 60,
     "metadata": {},
     "output_type": "execute_result"
    }
   ],
   "source": [
    "projected = X_tr_norm@firstthree.T\n",
    "\n",
    "projected.head()"
   ]
  },
  {
   "cell_type": "markdown",
   "metadata": {
    "hidden": true,
    "slideshow": {
     "slide_type": "slide"
    },
    "pycharm": {
     "name": "#%% md\n"
    }
   },
   "source": [
    "- We have lessened collinearity issue.\n",
    "- Also reduced dimensionality considerably."
   ]
  },
  {
   "cell_type": "code",
   "execution_count": 61,
   "metadata": {
    "hidden": true,
    "slideshow": {
     "slide_type": "fragment"
    },
    "pycharm": {
     "name": "#%%\n"
    }
   },
   "outputs": [
    {
     "data": {
      "text/plain": "<Figure size 640x480 with 2 Axes>",
      "image/png": "[encoded data removed]"
     },
     "metadata": {},
     "output_type": "display_data"
    }
   ],
   "source": [
    "sns.heatmap(projected.corr(),\n",
    "            annot=True,\n",
    "            fmt='0.2g',\n",
    "            vmin=-1,\n",
    "            vmax=1,\n",
    "            center=0,\n",
    "            cmap= 'coolwarm');"
   ]
  },
  {
   "cell_type": "markdown",
   "metadata": {
    "heading_collapsed": true,
    "hidden": true,
    "slideshow": {
     "slide_type": "slide"
    },
    "pycharm": {
     "name": "#%% md\n"
    }
   },
   "source": [
    "#### Modeling"
   ]
  },
  {
   "cell_type": "markdown",
   "metadata": {
    "hidden": true,
    "slideshow": {
     "slide_type": "subslide"
    },
    "pycharm": {
     "name": "#%% md\n"
    }
   },
   "source": [
    "Now let's compare linear regression models with...\n",
    "\n",
    "* All five original features \n",
    "* Only 2 best new features\n"
   ]
  },
  {
   "cell_type": "markdown",
   "metadata": {
    "slideshow": {
     "slide_type": "slide"
    },
    "pycharm": {
     "name": "#%% md\n"
    }
   },
   "source": [
    "**Model 1: All base features**:"
   ]
  },
  {
   "cell_type": "code",
   "execution_count": 62,
   "metadata": {
    "pycharm": {
     "name": "#%%\n"
    }
   },
   "outputs": [],
   "source": [
    "from sklearn.linear_model import LinearRegression"
   ]
  },
  {
   "cell_type": "code",
   "execution_count": 63,
   "metadata": {
    "pycharm": {
     "name": "#%%\n"
    }
   },
   "outputs": [
    {
     "data": {
      "text/plain": "0.8541854525411632"
     },
     "execution_count": 63,
     "metadata": {},
     "output_type": "execute_result"
    }
   ],
   "source": [
    "sm1 = LinearRegression()\n",
    "sm1.fit(X_tr_norm, y_train)\n",
    "sm1.score(X_tr_norm, y_train)"
   ]
  },
  {
   "cell_type": "code",
   "execution_count": 64,
   "metadata": {
    "pycharm": {
     "name": "#%%\n"
    }
   },
   "outputs": [],
   "source": [
    "from sklearn.metrics import r2_score"
   ]
  },
  {
   "cell_type": "code",
   "execution_count": 65,
   "metadata": {
    "pycharm": {
     "name": "#%%\n"
    }
   },
   "outputs": [
    {
     "data": {
      "text/plain": "0.8299053822954316"
     },
     "execution_count": 65,
     "metadata": {},
     "output_type": "execute_result"
    }
   ],
   "source": [
    "y_test_hat = sm1.predict(X_tt_norm)\n",
    "r2_score(y_test, y_test_hat)"
   ]
  },
  {
   "cell_type": "markdown",
   "metadata": {
    "pycharm": {
     "name": "#%% md\n"
    }
   },
   "source": [
    "**Model 2: All PCs**:"
   ]
  },
  {
   "cell_type": "code",
   "execution_count": 66,
   "metadata": {
    "pycharm": {
     "name": "#%%\n"
    }
   },
   "outputs": [
    {
     "data": {
      "text/plain": "LinearRegression()",
      "text/html": "<style>#sk-container-id-2 {color: black;background-color: white;}#sk-container-id-2 pre{padding: 0;}#sk-container-id-2 div.sk-toggleable {background-color: white;}#sk-container-id-2 label.sk-toggleable__label {cursor: pointer;display: block;width: 100%;margin-bottom: 0;padding: 0.3em;box-sizing: border-box;text-align: center;}#sk-container-id-2 label.sk-toggleable__label-arrow:before {content: \"▸\";float: left;margin-right: 0.25em;color: #696969;}#sk-container-id-2 label.sk-toggleable__label-arrow:hover:before {color: black;}#sk-container-id-2 div.sk-estimator:hover label.sk-toggleable__label-arrow:before {color: black;}#sk-container-id-2 div.sk-toggleable__content {max-height: 0;max-width: 0;overflow: hidden;text-align: left;background-color: #f0f8ff;}#sk-container-id-2 div.sk-toggleable__content pre {margin: 0.2em;color: black;border-radius: 0.25em;background-color: #f0f8ff;}#sk-container-id-2 input.sk-toggleable__control:checked~div.sk-toggleable__content {max-height: 200px;max-width: 100%;overflow: auto;}#sk-container-id-2 input.sk-toggleable__control:checked~label.sk-toggleable__label-arrow:before {content: \"▾\";}#sk-container-id-2 div.sk-estimator input.sk-toggleable__control:checked~label.sk-toggleable__label {background-color: #d4ebff;}#sk-container-id-2 div.sk-label input.sk-toggleable__control:checked~label.sk-toggleable__label {background-color: #d4ebff;}#sk-container-id-2 input.sk-hidden--visually {border: 0;clip: rect(1px 1px 1px 1px);clip: rect(1px, 1px, 1px, 1px);height: 1px;margin: -1px;overflow: hidden;padding: 0;position: absolute;width: 1px;}#sk-container-id-2 div.sk-estimator {font-family: monospace;background-color: #f0f8ff;border: 1px dotted black;border-radius: 0.25em;box-sizing: border-box;margin-bottom: 0.5em;}#sk-container-id-2 div.sk-estimator:hover {background-color: #d4ebff;}#sk-container-id-2 div.sk-parallel-item::after {content: \"\";width: 100%;border-bottom: 1px solid gray;flex-grow: 1;}#sk-container-id-2 div.sk-label:hover label.sk-toggleable__label {background-color: #d4ebff;}#sk-container-id-2 div.sk-serial::before {content: \"\";position: absolute;border-left: 1px solid gray;box-sizing: border-box;top: 0;bottom: 0;left: 50%;z-index: 0;}#sk-container-id-2 div.sk-serial {display: flex;flex-direction: column;align-items: center;background-color: white;padding-right: 0.2em;padding-left: 0.2em;position: relative;}#sk-container-id-2 div.sk-item {position: relative;z-index: 1;}#sk-container-id-2 div.sk-parallel {display: flex;align-items: stretch;justify-content: center;background-color: white;position: relative;}#sk-container-id-2 div.sk-item::before, #sk-container-id-2 div.sk-parallel-item::before {content: \"\";position: absolute;border-left: 1px solid gray;box-sizing: border-box;top: 0;bottom: 0;left: 50%;z-index: -1;}#sk-container-id-2 div.sk-parallel-item {display: flex;flex-direction: column;z-index: 1;position: relative;background-color: white;}#sk-container-id-2 div.sk-parallel-item:first-child::after {align-self: flex-end;width: 50%;}#sk-container-id-2 div.sk-parallel-item:last-child::after {align-self: flex-start;width: 50%;}#sk-container-id-2 div.sk-parallel-item:only-child::after {width: 0;}#sk-container-id-2 div.sk-dashed-wrapped {border: 1px dashed gray;margin: 0 0.4em 0.5em 0.4em;box-sizing: border-box;padding-bottom: 0.4em;background-color: white;}#sk-container-id-2 div.sk-label label {font-family: monospace;font-weight: bold;display: inline-block;line-height: 1.2em;}#sk-container-id-2 div.sk-label-container {text-align: center;}#sk-container-id-2 div.sk-container {/* jupyter's `normalize.less` sets `[hidden] { display: none; }` but bootstrap.min.css set `[hidden] { display: none !important; }` so we also need the `!important` here to be able to override the default hidden behavior on the sphinx rendered scikit-learn.org. See: https://github.com/scikit-learn/scikit-learn/issues/21755 */display: inline-block !important;position: relative;}#sk-container-id-2 div.sk-text-repr-fallback {display: none;}</style><div id=\"sk-container-id-2\" class=\"sk-top-container\"><div class=\"sk-text-repr-fallback\"><pre>LinearRegression()</pre><b>In a Jupyter environment, please rerun this cell to show the HTML representation or trust the notebook. <br />On GitHub, the HTML representation is unable to render, please try loading this page with nbviewer.org.</b></div><div class=\"sk-container\" hidden><div class=\"sk-item\"><div class=\"sk-estimator sk-toggleable\"><input class=\"sk-toggleable__control sk-hidden--visually\" id=\"sk-estimator-id-2\" type=\"checkbox\" checked><label for=\"sk-estimator-id-2\" class=\"sk-toggleable__label sk-toggleable__label-arrow\">LinearRegression</label><div class=\"sk-toggleable__content\"><pre>LinearRegression()</pre></div></div></div></div></div>"
     },
     "execution_count": 66,
     "metadata": {},
     "output_type": "execute_result"
    }
   ],
   "source": [
    "sm2 = LinearRegression()\n",
    "sm2.fit(projected, y_train)"
   ]
  },
  {
   "cell_type": "code",
   "execution_count": 67,
   "metadata": {
    "pycharm": {
     "name": "#%%\n"
    }
   },
   "outputs": [],
   "source": [
    "projected_test = X_tt_norm@firstthree.T"
   ]
  },
  {
   "cell_type": "code",
   "execution_count": 68,
   "metadata": {
    "pycharm": {
     "name": "#%%\n"
    }
   },
   "outputs": [],
   "source": [
    "y_pred = sm2.predict(projected_test)"
   ]
  },
  {
   "cell_type": "code",
   "execution_count": 69,
   "metadata": {
    "pycharm": {
     "name": "#%%\n"
    }
   },
   "outputs": [],
   "source": [
    "y_train_pred = sm2.predict(projected)"
   ]
  },
  {
   "cell_type": "code",
   "execution_count": 70,
   "metadata": {
    "pycharm": {
     "name": "#%%\n"
    }
   },
   "outputs": [
    {
     "data": {
      "text/plain": "0.8183336571317487"
     },
     "execution_count": 70,
     "metadata": {},
     "output_type": "execute_result"
    }
   ],
   "source": [
    "r2_score(y_train_pred, y_train)"
   ]
  },
  {
   "cell_type": "code",
   "execution_count": 71,
   "metadata": {
    "pycharm": {
     "name": "#%%\n"
    }
   },
   "outputs": [
    {
     "data": {
      "text/plain": "0.7531524686776813"
     },
     "execution_count": 71,
     "metadata": {},
     "output_type": "execute_result"
    }
   ],
   "source": [
    "r2_score(y_pred, y_test)"
   ]
  },
  {
   "cell_type": "code",
   "execution_count": 72,
   "metadata": {
    "pycharm": {
     "name": "#%%\n"
    }
   },
   "outputs": [
    {
     "name": "stderr",
     "output_type": "stream",
     "text": [
      "C:\\Users\\pedro\\anaconda3\\Lib\\site-packages\\sklearn\\base.py:450: UserWarning: X does not have valid feature names, but LinearRegression was fitted with feature names\n",
      "  warnings.warn(\n"
     ]
    },
    {
     "data": {
      "text/plain": "8.528137994353443"
     },
     "execution_count": 72,
     "metadata": {},
     "output_type": "execute_result"
    }
   ],
   "source": [
    "y_test_hat2 = sm2.predict(X_tt_norm.dot(firstthree.T))\n",
    "mse(y_test, y_test_hat2)"
   ]
  },
  {
   "cell_type": "markdown",
   "metadata": {
    "heading_collapsed": true,
    "hidden": true,
    "pycharm": {
     "name": "#%% md\n"
    }
   },
   "source": [
    "## PCA in `sklearn`"
   ]
  },
  {
   "cell_type": "markdown",
   "metadata": {
    "hidden": true,
    "pycharm": {
     "name": "#%% md\n"
    }
   },
   "source": [
    "As always, `sklearn` makes this all much easier, this time with the `PCA()` class."
   ]
  },
  {
   "cell_type": "code",
   "execution_count": 73,
   "metadata": {
    "hidden": true,
    "pycharm": {
     "name": "#%%\n"
    }
   },
   "outputs": [],
   "source": [
    "pca = PCA(n_components=2) # Check out how `n_components` works\n",
    "\n",
    "X_tr_pca = pca.fit_transform(X_tr_norm)"
   ]
  },
  {
   "cell_type": "markdown",
   "metadata": {
    "hidden": true,
    "pycharm": {
     "name": "#%% md\n"
    }
   },
   "source": [
    "You can get the eigenvalues and eigenvectors out, too "
   ]
  },
  {
   "cell_type": "code",
   "execution_count": 74,
   "metadata": {
    "hidden": true,
    "pycharm": {
     "name": "#%%\n"
    }
   },
   "outputs": [
    {
     "data": {
      "text/plain": "array([3.53558917, 1.10635272])"
     },
     "execution_count": 74,
     "metadata": {},
     "output_type": "execute_result"
    }
   ],
   "source": [
    "pca.explained_variance_"
   ]
  },
  {
   "cell_type": "code",
   "execution_count": 75,
   "metadata": {
    "pycharm": {
     "name": "#%%\n"
    }
   },
   "outputs": [
    {
     "data": {
      "text/plain": "array([0.67497612, 0.21121279])"
     },
     "execution_count": 75,
     "metadata": {},
     "output_type": "execute_result"
    }
   ],
   "source": [
    "pca.explained_variance_ratio_"
   ]
  },
  {
   "cell_type": "markdown",
   "metadata": {
    "hidden": true,
    "pycharm": {
     "name": "#%% md\n"
    }
   },
   "source": [
    "Sometimes the signs get flipped on the eigenvectors - don't worry about it. Think of \"up\" and \"down\" as both representing the same dimension, just in opposite directions."
   ]
  },
  {
   "cell_type": "code",
   "execution_count": 76,
   "metadata": {
    "hidden": true,
    "pycharm": {
     "name": "#%%\n"
    }
   },
   "outputs": [
    {
     "data": {
      "text/plain": "array([[-0.48625042, -0.50759972, -0.50572812, -0.49460858, -0.07419213],\n       [-0.17126596, -0.03441325,  0.12534132,  0.21831621, -0.95189878]])"
     },
     "execution_count": 76,
     "metadata": {},
     "output_type": "execute_result"
    }
   ],
   "source": [
    "pca.components_"
   ]
  },
  {
   "cell_type": "markdown",
   "metadata": {
    "hidden": true,
    "pycharm": {
     "name": "#%% md\n"
    }
   },
   "source": [
    "After PCA, you can use your transformed data as you would in any model"
   ]
  }
 ],
 "metadata": {
  "celltoolbar": "Slideshow",
  "kernelspec": {
   "display_name": "Python 3 (ipykernel)",
   "language": "python",
   "name": "python3"
  },
  "language_info": {
   "codemirror_mode": {
    "name": "ipython",
    "version": 3
   },
   "file_extension": ".py",
   "mimetype": "text/x-python",
   "name": "python",
   "nbconvert_exporter": "python",
   "pygments_lexer": "ipython3",
   "version": "3.9.7"
  },
  "toc": {
   "base_numbering": 1,
   "nav_menu": {},
   "number_sections": true,
   "sideBar": true,
   "skip_h1_title": false,
   "title_cell": "Table of Contents",
   "title_sidebar": "Contents",
   "toc_cell": true,
   "toc_position": {
    "height": "calc(100% - 180px)",
    "left": "10px",
    "top": "150px",
    "width": "294px"
   },
   "toc_section_display": true,
   "toc_window_display": true
  }
 },
 "nbformat": 4,
 "nbformat_minor": 2
}