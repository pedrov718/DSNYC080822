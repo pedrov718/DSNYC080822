{
 "cells": [
  {
   "cell_type": "markdown",
   "id": "b1b58d2e",
   "metadata": {
    "cell_style": "center",
    "slideshow": {
     "slide_type": "slide"
    }
   },
   "source": [
    "<div style=\"color:white;\n",
    "           display:fill;\n",
    "           border-radius:5px;\n",
    "           background-color:#5642C5;\n",
    "           font-size:200%;\n",
    "           font-family:Arial;letter-spacing:0.5px\">\n",
    "\n",
    "<p width = 20%, style=\"padding: 10px;\n",
    "              color:white;\">\n",
    "SQL: Subqueries\n",
    "              \n",
    "</p>\n",
    "</div>\n",
    "\n",
    "Data Science Cohort Live NYC Feb 2022\n",
    "<p>Phase 1: Topic 6</p>\n",
    "<br>\n",
    "<br>\n",
    "\n",
    "<div align = \"right\">\n",
    "<img src=\"Images/flatiron-school-logo.png\" align = \"right\" width=\"200\"/>\n",
    "</div>\n",
    "    \n",
    "   "
   ]
  },
  {
   "cell_type": "markdown",
   "id": "f2bd31a6",
   "metadata": {
    "cell_style": "split",
    "slideshow": {
     "slide_type": "slide"
    }
   },
   "source": [
    "Queries can get complex:\n",
    "- Helpful/necessary to build a query out of sub-units\n",
    "- These subunits are queries which might include:\n",
    "    - groupbys/agg functions\n",
    "    - selecting/filtering\n",
    "    - etc."
   ]
  },
  {
   "cell_type": "markdown",
   "id": "48dce8a7",
   "metadata": {
    "cell_style": "split",
    "slideshow": {
     "slide_type": "fragment"
    }
   },
   "source": [
    "<img src = \"Images/sql_subquery.jpg\">"
   ]
  },
  {
   "cell_type": "markdown",
   "id": "7a9d7722",
   "metadata": {
    "cell_style": "center",
    "slideshow": {
     "slide_type": "subslide"
    }
   },
   "source": [
    "Inner query is a **subquery**:\n",
    "\n",
    "- Generates an intermediate table that stores results temporarily in memory.\n",
    "- Subquery intermediate table can be used during execution of main query."
   ]
  },
  {
   "cell_type": "markdown",
   "id": "b4f324bb",
   "metadata": {
    "slideshow": {
     "slide_type": "slide"
    }
   },
   "source": [
    "Subqueries can be used to great effect in a variety of circumstances:\n",
    "    \n",
    "- Selecting from a table created by a subquery \n",
    "    - Subquery in FROM statement\n",
    "- Filtering on a subquery.\n",
    "    - Subquery in a WHERE statement\n",
    "- Filtering in a SELECT statement.\n"
   ]
  },
  {
   "cell_type": "markdown",
   "id": "21d7cc6e",
   "metadata": {
    "slideshow": {
     "slide_type": "slide"
    }
   },
   "source": [
    "#### Subquery in FROM clause"
   ]
  },
  {
   "cell_type": "markdown",
   "id": "f073749c",
   "metadata": {
    "slideshow": {
     "slide_type": "slide"
    }
   },
   "source": [
    "First load our handy dandy flights database."
   ]
  },
  {
   "cell_type": "code",
   "execution_count": 55,
   "id": "d894b5b1",
   "metadata": {
    "slideshow": {
     "slide_type": "fragment"
    }
   },
   "outputs": [],
   "source": [
    "import sqlite3\n",
    "import numpy as np\n",
    "import pandas as pd\n",
    "\n",
    "# connect to flights database\n",
    "con = sqlite3.connect('data/flights.db')"
   ]
  },
  {
   "cell_type": "markdown",
   "id": "52d771be",
   "metadata": {
    "slideshow": {
     "slide_type": "slide"
    }
   },
   "source": [
    "Recall the various tables in flight database:"
   ]
  },
  {
   "cell_type": "code",
   "execution_count": 56,
   "id": "462c06e8",
   "metadata": {
    "slideshow": {
     "slide_type": "fragment"
    }
   },
   "outputs": [
    {
     "name": "stdout",
     "output_type": "stream",
     "text": [
      "airlines  airports  routes  \r\n"
     ]
    }
   ],
   "source": [
    "%%bash \n",
    "\n",
    "sqlite3 data/flights.db\n",
    ".tables"
   ]
  },
  {
   "cell_type": "code",
   "execution_count": 57,
   "id": "10673872",
   "metadata": {
    "slideshow": {
     "slide_type": "fragment"
    }
   },
   "outputs": [
    {
     "data": {
      "text/html": [
       "<div>\n",
       "<style scoped>\n",
       "    .dataframe tbody tr th:only-of-type {\n",
       "        vertical-align: middle;\n",
       "    }\n",
       "\n",
       "    .dataframe tbody tr th {\n",
       "        vertical-align: top;\n",
       "    }\n",
       "\n",
       "    .dataframe thead th {\n",
       "        text-align: right;\n",
       "    }\n",
       "</style>\n",
       "<table border=\"1\" class=\"dataframe\">\n",
       "  <thead>\n",
       "    <tr style=\"text-align: right;\">\n",
       "      <th></th>\n",
       "      <th>index</th>\n",
       "      <th>id</th>\n",
       "      <th>name</th>\n",
       "      <th>city</th>\n",
       "      <th>country</th>\n",
       "      <th>code</th>\n",
       "      <th>icao</th>\n",
       "      <th>latitude</th>\n",
       "      <th>longitude</th>\n",
       "      <th>altitude</th>\n",
       "      <th>offset</th>\n",
       "      <th>dst</th>\n",
       "      <th>timezone</th>\n",
       "    </tr>\n",
       "  </thead>\n",
       "  <tbody>\n",
       "    <tr>\n",
       "      <th>0</th>\n",
       "      <td>0</td>\n",
       "      <td>1</td>\n",
       "      <td>Goroka</td>\n",
       "      <td>Goroka</td>\n",
       "      <td>Papua New Guinea</td>\n",
       "      <td>GKA</td>\n",
       "      <td>AYGA</td>\n",
       "      <td>-6.081689</td>\n",
       "      <td>145.391881</td>\n",
       "      <td>5282</td>\n",
       "      <td>10</td>\n",
       "      <td>U</td>\n",
       "      <td>Pacific/Port_Moresby</td>\n",
       "    </tr>\n",
       "    <tr>\n",
       "      <th>1</th>\n",
       "      <td>1</td>\n",
       "      <td>2</td>\n",
       "      <td>Madang</td>\n",
       "      <td>Madang</td>\n",
       "      <td>Papua New Guinea</td>\n",
       "      <td>MAG</td>\n",
       "      <td>AYMD</td>\n",
       "      <td>-5.207083</td>\n",
       "      <td>145.7887</td>\n",
       "      <td>20</td>\n",
       "      <td>10</td>\n",
       "      <td>U</td>\n",
       "      <td>Pacific/Port_Moresby</td>\n",
       "    </tr>\n",
       "  </tbody>\n",
       "</table>\n",
       "</div>"
      ],
      "text/plain": [
       "   index id    name    city           country code  icao   latitude  \\\n",
       "0      0  1  Goroka  Goroka  Papua New Guinea  GKA  AYGA  -6.081689   \n",
       "1      1  2  Madang  Madang  Papua New Guinea  MAG  AYMD  -5.207083   \n",
       "\n",
       "    longitude altitude offset dst              timezone  \n",
       "0  145.391881     5282     10   U  Pacific/Port_Moresby  \n",
       "1    145.7887       20     10   U  Pacific/Port_Moresby  "
      ]
     },
     "execution_count": 57,
     "metadata": {},
     "output_type": "execute_result"
    }
   ],
   "source": [
    "pd.read_sql(\"\"\"\n",
    "\n",
    "SELECT * \n",
    "FROM airports\n",
    "LIMIT 2\n",
    "\n",
    "\"\"\", con)"
   ]
  },
  {
   "cell_type": "markdown",
   "id": "3f9da28b",
   "metadata": {
    "slideshow": {
     "slide_type": "slide"
    }
   },
   "source": [
    "#### Problem\n",
    "\n",
    "Get the average altitude of the highest altitude airports in the United States, Russia, and China.\n",
    "\n",
    "Useful to break this into steps with a subquery."
   ]
  },
  {
   "cell_type": "markdown",
   "id": "1812da97",
   "metadata": {
    "slideshow": {
     "slide_type": "slide"
    }
   },
   "source": [
    "- First filter airports on country.\n",
    "- Then group by country and aggregate.\n",
    "- Get average of the altitudes of the resultant airports.\n",
    "\n",
    "Step by step.\n",
    "\n",
    "Can also control execution flow and number of operations in a query this way."
   ]
  },
  {
   "cell_type": "markdown",
   "id": "185785cb",
   "metadata": {
    "slideshow": {
     "slide_type": "slide"
    }
   },
   "source": [
    "Step 1: Filter airports on relevant countries."
   ]
  },
  {
   "cell_type": "code",
   "execution_count": null,
   "outputs": [],
   "source": [
    "sq1 = pd.read_sql(\"\"\"\n",
    "\n",
    "SELECT *\n",
    "\n",
    "FROM\n",
    "\n",
    "airports\n",
    "\n",
    "WHERE country IN \n",
    "('United States', 'China', 'Russia')\n",
    "     \n",
    "\n",
    "\"\"\", con)\n",
    "sq1"
   ],
   "metadata": {
    "collapsed": false,
    "pycharm": {
     "name": "#%%\n"
    }
   }
  },
  {
   "cell_type": "code",
   "execution_count": null,
   "outputs": [],
   "source": [
    "pd.read_sql(\"\"\"\n",
    "\n",
    "SELECT * \n",
    "FROM airports\n",
    "LIMIT 2\n",
    "\n",
    "\"\"\", con)"
   ],
   "metadata": {
    "collapsed": false,
    "pycharm": {
     "name": "#%%\n"
    }
   }
  },
  {
   "cell_type": "code",
   "execution_count": null,
   "outputs": [],
   "source": [
    "sq1"
   ],
   "metadata": {
    "collapsed": false,
    "pycharm": {
     "name": "#%%\n"
    }
   }
  },
  {
   "cell_type": "markdown",
   "source": [
    "Step 2: Use filtered table (via subquery) and get max altitude airport by country \n",
    "\n",
    "Want: name, city, altitude of these airports"
   ],
   "metadata": {
    "collapsed": false,
    "pycharm": {
     "name": "#%% md\n"
    }
   }
  },
  {
   "cell_type": "code",
   "execution_count": null,
   "outputs": [],
   "source": [
    "sq2 = pd.read_sql(\"\"\"\n",
    "\n",
    "SELECT cf.name, cf.city, \n",
    "MAX(CAST(altitude as INT)) AS maxalt\n",
    "     \n",
    "FROM \n",
    "\n",
    "(SELECT *\n",
    "FROM airports \n",
    "WHERE country IN \n",
    "(\"United States\", \"Russia\", \"China\") ) AS cf\n",
    "\n",
    "GROUP BY country\n",
    "\n",
    "     \n",
    "\n",
    "\"\"\", con)"
   ],
   "metadata": {
    "collapsed": false,
    "pycharm": {
     "name": "#%%\n"
    }
   }
  },
  {
   "cell_type": "markdown",
   "source": [
    "- Subquery in parentheses for defining temporary table\n",
    "- Aliasing subquery: \n",
    "    - good practice\n",
    "    - ease of referencing subquery fields in main query"
   ],
   "metadata": {
    "collapsed": false,
    "pycharm": {
     "name": "#%% md\n"
    }
   }
  },
  {
   "cell_type": "code",
   "execution_count": null,
   "outputs": [],
   "source": [
    "sq2"
   ],
   "metadata": {
    "collapsed": false,
    "pycharm": {
     "name": "#%%\n"
    }
   }
  },
  {
   "cell_type": "markdown",
   "source": [
    "Now get the mean altitude across the three countries:"
   ],
   "metadata": {
    "collapsed": false,
    "pycharm": {
     "name": "#%% md\n"
    }
   }
  },
  {
   "cell_type": "code",
   "execution_count": null,
   "outputs": [],
   "source": [
    "sq3 = pd.read_sql(\"\"\"\n",
    "\n",
    "SELECT AVG(max_altitude) \n",
    "AS max_altitude_avg\n",
    "    \n",
    "FROM \n",
    "\n",
    "(\n",
    "SELECT name, \n",
    "     city,\n",
    "     country,\n",
    "     MAX(CAST(altitude as float)) \n",
    "     AS max_altitude\n",
    "\n",
    "FROM \n",
    "\n",
    "(SELECT *\n",
    "FROM airports \n",
    "WHERE country IN \n",
    "(\"United States\", \"Russia\", \"China\") ) AS cf\n",
    "GROUP BY cf.country\n",
    ")\n",
    "\n",
    "     \n",
    "\n",
    "\"\"\", con)"
   ],
   "metadata": {
    "collapsed": false,
    "pycharm": {
     "name": "#%%\n"
    }
   }
  },
  {
   "cell_type": "code",
   "execution_count": null,
   "outputs": [],
   "source": [
    "sq3"
   ],
   "metadata": {
    "collapsed": false,
    "pycharm": {
     "name": "#%%\n"
    }
   }
  },
  {
   "cell_type": "markdown",
   "source": [
    "Two levels of subqueries gets the job done."
   ],
   "metadata": {
    "collapsed": false,
    "pycharm": {
     "name": "#%% md\n"
    }
   }
  },
  {
   "cell_type": "markdown",
   "source": [
    "**Exercise**\n",
    "\n",
    "- Get me the countries whose max altitude and min altitude airport have a differential greater than 2000 ft.\n",
    "\n",
    "- Use a subquery in the FROM statement."
   ],
   "metadata": {
    "collapsed": false,
    "pycharm": {
     "name": "#%% md\n"
    }
   }
  },
  {
   "cell_type": "code",
   "execution_count": null,
   "outputs": [],
   "source": [
    "sq3 = pd.read_sql(\"\"\"\n",
    "\n",
    "\n",
    "\n",
    "\"\"\", con)\n",
    "sq3"
   ],
   "metadata": {
    "collapsed": false,
    "pycharm": {
     "name": "#%%\n"
    }
   }
  },
  {
   "cell_type": "markdown",
   "source": [
    "#### Using derived tables in joins\n",
    "\n",
    "- create set of tables from subqueries\n",
    "- use these to create a new table with derived columns from subqueries. \n",
    "\n",
    "Let's take an example of this."
   ],
   "metadata": {
    "collapsed": false,
    "pycharm": {
     "name": "#%% md\n"
    }
   }
  },
  {
   "cell_type": "markdown",
   "source": [
    "For each airport I want:\n",
    "- the count of routes that leaves from an airport.\n",
    "- the count of routes that arrive there.\n",
    "\n",
    "\n",
    "Many ways to do this. But I'll make full use of subqueries and joins here."
   ],
   "metadata": {
    "collapsed": false,
    "pycharm": {
     "name": "#%% md\n"
    }
   }
  },
  {
   "cell_type": "code",
   "execution_count": null,
   "outputs": [],
   "source": [
    "pd.read_sql(\"\"\"\n",
    "\n",
    "SELECT * \n",
    "     FROM routes\n",
    "     LIMIT 5\n",
    "\n",
    "\n",
    "\"\"\", con)"
   ],
   "metadata": {
    "collapsed": false,
    "pycharm": {
     "name": "#%%\n"
    }
   }
  },
  {
   "cell_type": "markdown",
   "source": [
    "First calculate count of routes departing from each airport.\n"
   ],
   "metadata": {
    "collapsed": false,
    "pycharm": {
     "name": "#%% md\n"
    }
   }
  },
  {
   "cell_type": "code",
   "execution_count": null,
   "outputs": [],
   "source": [
    "departure_table = pd.read_sql(\"\"\"\n",
    "\n",
    "SELECT source, COUNT(*) as departure_count\n",
    "\n",
    "FROM routes\n",
    "\n",
    "GROUP BY source\n",
    "\n",
    "     \n",
    "\"\"\", con)"
   ],
   "metadata": {
    "collapsed": false,
    "pycharm": {
     "name": "#%%\n"
    }
   }
  },
  {
   "cell_type": "code",
   "execution_count": null,
   "outputs": [],
   "source": [
    "departure_table = pd.read_sql(\"\"\"\n",
    "\n",
    "SELECT source, COUNT(source) as departure_count\n",
    "     FROM routes\n",
    "     \n",
    "     GROUP BY source\n",
    "     \n",
    "\"\"\", con)"
   ],
   "metadata": {
    "collapsed": false,
    "pycharm": {
     "name": "#%%\n"
    }
   }
  },
  {
   "cell_type": "code",
   "execution_count": null,
   "outputs": [],
   "source": [
    "departure_table"
   ],
   "metadata": {
    "collapsed": false,
    "pycharm": {
     "name": "#%%\n"
    }
   }
  },
  {
   "cell_type": "code",
   "execution_count": null,
   "outputs": [],
   "source": [
    "arrival_table = pd.read_sql(\"\"\"\n",
    "\n",
    "SELECT dest, COUNT(dest) as arrival_count\n",
    "     FROM routes\n",
    "     \n",
    "     GROUP BY dest\n",
    "     \n",
    "\"\"\", con)"
   ],
   "metadata": {
    "collapsed": false,
    "pycharm": {
     "name": "#%%\n"
    }
   }
  },
  {
   "cell_type": "code",
   "execution_count": null,
   "outputs": [],
   "source": [
    "arrival_table"
   ],
   "metadata": {
    "collapsed": false,
    "pycharm": {
     "name": "#%%\n"
    }
   }
  },
  {
   "cell_type": "markdown",
   "source": [
    "We can link these the arrival tables and destination tables together:\n",
    "- Keep records where source and destination are in both tables.\n",
    "- What operation?"
   ],
   "metadata": {
    "collapsed": false,
    "pycharm": {
     "name": "#%% md\n"
    }
   }
  },
  {
   "cell_type": "markdown",
   "source": [
    "INNER JOIN ON SUBQUERY RESULTS!"
   ],
   "metadata": {
    "collapsed": false,
    "pycharm": {
     "name": "#%% md\n"
    }
   }
  },
  {
   "cell_type": "code",
   "execution_count": null,
   "outputs": [],
   "source": [
    "%%capture full_result\n",
    "\n",
    "pd.read_sql(\"\"\"\n",
    "\n",
    "SELECT dep.source AS airport_code,\n",
    "        dep.departure_count,\n",
    "        arriv.arrival_count \n",
    "        \n",
    "FROM\n",
    "\n",
    "(SELECT source, COUNT(source) as departure_count\n",
    "     FROM routes\n",
    "     \n",
    "     GROUP BY source) AS dep\n",
    "\n",
    "INNER JOIN \n",
    "\n",
    "(SELECT dest, COUNT(dest) as arrival_count\n",
    "     FROM routes\n",
    "     \n",
    "     GROUP BY dest) AS arriv\n",
    "\n",
    "ON dep.source = arriv.dest\n",
    "     \n",
    "\"\"\", con)"
   ],
   "metadata": {
    "collapsed": false,
    "pycharm": {
     "name": "#%%\n"
    }
   }
  },
  {
   "cell_type": "code",
   "execution_count": null,
   "outputs": [],
   "source": [
    "full_result()"
   ],
   "metadata": {
    "collapsed": false,
    "pycharm": {
     "name": "#%%\n"
    }
   }
  },
  {
   "cell_type": "markdown",
   "source": [
    "This result is a derived table telling us information for each airport and keeping relevant records.\n",
    "\n",
    "- We can filter or aggregate on this derived table as we see fit.\n",
    "\n",
    "\n",
    "- Get all airports with significance difference in:\n",
    "    - number of routes originating and terminating at given airport.\n",
    "    - dfference in departure and arrival route counts greater than 5.\n",
    "- Order in descending order of this difference.\n",
    "\n",
    "Help this hapless data science instructor out!"
   ],
   "metadata": {
    "collapsed": false,
    "pycharm": {
     "name": "#%% md\n"
    }
   }
  },
  {
   "cell_type": "code",
   "execution_count": null,
   "outputs": [],
   "source": [
    "%%capture filtered_result\n",
    "\n",
    "pd.read_sql(\"\"\"\n",
    "\n",
    "SELECT dep.source AS airport_code,\n",
    "        dep.departure_count,\n",
    "        arriv.arrival_count\n",
    "        \n",
    "FROM\n",
    "\n",
    "(SELECT source, COUNT(source) as departure_count\n",
    "     FROM routes\n",
    "     \n",
    "     GROUP BY source) AS dep\n",
    "\n",
    "INNER JOIN \n",
    "\n",
    "(SELECT dest, COUNT(dest) as arrival_count\n",
    "     FROM routes\n",
    "     \n",
    "     GROUP BY dest) AS arriv\n",
    "\n",
    "ON dep.source = arriv.dest\n",
    "\n",
    "\n",
    "     \n",
    "\"\"\", con)"
   ],
   "metadata": {
    "collapsed": false,
    "pycharm": {
     "name": "#%%\n"
    }
   }
  },
  {
   "cell_type": "code",
   "execution_count": null,
   "outputs": [],
   "source": [
    "%%capture filtered_result\n",
    "\n",
    "pd.read_sql(\"\"\"\n",
    "\n",
    "SELECT dep.source AS airport_code,\n",
    "        dep.departure_count,\n",
    "        arriv.arrival_count, \n",
    "        ABS(dep.departure_count - arrival_count) AS count_diff\n",
    "        \n",
    "FROM\n",
    "\n",
    "(SELECT source, COUNT(source) as departure_count\n",
    "     FROM routes\n",
    "     \n",
    "     GROUP BY source) AS dep\n",
    "\n",
    "INNER JOIN \n",
    "\n",
    "(SELECT dest, COUNT(dest) as arrival_count\n",
    "     FROM routes\n",
    "     \n",
    "     GROUP BY dest) AS arriv\n",
    "\n",
    "ON dep.source = arriv.dest\n",
    "\n",
    "WHERE count_diff > 5\n",
    "ORDER BY count_diff DESC\n",
    "     \n",
    "\"\"\", con)"
   ],
   "metadata": {
    "collapsed": false,
    "pycharm": {
     "name": "#%%\n"
    }
   }
  },
  {
   "cell_type": "code",
   "execution_count": null,
   "outputs": [],
   "source": [
    "filtered_result()"
   ],
   "metadata": {
    "collapsed": false,
    "pycharm": {
     "name": "#%%\n"
    }
   }
  },
  {
   "cell_type": "markdown",
   "source": [
    "**Exercise**\n",
    "\n",
    "Get me the name, city, country and airport code of airports for countries with more than 10 active airlines companies\n",
    "\n",
    "Hints:\n",
    "- DISTINCT(name) will be useful.\n",
    "- A join might be useful. Aliasing tables will be important here as well.\n",
    "- Think of groupbys and aggregations and filtering on them."
   ],
   "metadata": {
    "collapsed": false,
    "pycharm": {
     "name": "#%% md\n"
    }
   }
  },
  {
   "cell_type": "code",
   "execution_count": null,
   "outputs": [],
   "source": [
    "%%bash \n",
    "\n",
    "sqlite3 data/flights.db\n",
    ".schema airlines"
   ],
   "metadata": {
    "collapsed": false,
    "pycharm": {
     "name": "#%%\n"
    }
   }
  },
  {
   "cell_type": "code",
   "execution_count": null,
   "outputs": [],
   "source": [
    "%%bash \n",
    "\n",
    "sqlite3 data/flights.db\n",
    ".schema airports"
   ],
   "metadata": {
    "collapsed": false,
    "pycharm": {
     "name": "#%%\n"
    }
   }
  },
  {
   "cell_type": "code",
   "execution_count": null,
   "outputs": [],
   "source": [
    "# Get me the name, city, country and airport code of airports for countries \n",
    "# with more than 10 active airlines companies\n",
    "\n",
    "# Let's have fun building this up. Step by step. Start with subquery.\n",
    "pd.read_sql(\"\"\"\n",
    "SELECT ar.name, ar.code, ar.city, ar.country, ct\n",
    "FROM \n",
    "( SELECT country, COUNT(DISTINCT name) AS ct\n",
    "FROM airlines \n",
    "WHERE active = 'Y'\n",
    "GROUP BY country\n",
    "HAVING ct > 10 ) as inter INNER JOIN airports as ar\n",
    "ON inter.country = ar.country\n",
    "\n",
    "\"\"\", con)"
   ],
   "metadata": {
    "collapsed": false,
    "pycharm": {
     "name": "#%%\n"
    }
   }
  },
  {
   "cell_type": "markdown",
   "source": [
    "- Complex as subqueries pile on. \n",
    "- There are ways to organize subqueries: common table expressions\n",
    "- Will make code readable.\n",
    "\n",
    "But first: other ways subqueries can be used."
   ],
   "metadata": {
    "collapsed": false,
    "pycharm": {
     "name": "#%% md\n"
    }
   }
  },
  {
   "cell_type": "markdown",
   "source": [
    "#### Subqueries in the WHERE statement\n",
    "\n",
    "- Can use the result of a subquery to filter another selection.\n",
    "- Particularly useful when you want to filter on the results of:\n",
    "    - groupbys, etc\n",
    "    - results from other tables\n",
    "\n",
    "I want all route records where the departure airport has a departure route count greater than 200."
   ],
   "metadata": {
    "collapsed": false,
    "pycharm": {
     "name": "#%% md\n"
    }
   }
  },
  {
   "cell_type": "code",
   "execution_count": null,
   "outputs": [],
   "source": [
    "\n",
    "pd.read_sql('''\n",
    "\n",
    "\n",
    "SELECT source, COUNT(source)\n",
    "     FROM routes\n",
    "     GROUP BY source\n",
    "     HAVING COUNT(source) > 200\n",
    "''', con)"
   ],
   "metadata": {
    "collapsed": false,
    "pycharm": {
     "name": "#%%\n"
    }
   }
  },
  {
   "cell_type": "code",
   "execution_count": null,
   "outputs": [],
   "source": [
    "%%capture where_subquery1\n",
    "pd.read_sql('''\n",
    "\n",
    "\n",
    "SELECT *\n",
    "            \n",
    "FROM routes\n",
    "\n",
    "WHERE source IN (SELECT source \n",
    "     FROM routes\n",
    "     GROUP BY source\n",
    "     HAVING COUNT(source) > 200) \n",
    "''', con)"
   ],
   "metadata": {
    "collapsed": false,
    "pycharm": {
     "name": "#%%\n"
    }
   }
  },
  {
   "cell_type": "code",
   "execution_count": null,
   "outputs": [],
   "source": [
    "where_subquery1()"
   ],
   "metadata": {
    "collapsed": false,
    "pycharm": {
     "name": "#%%\n"
    }
   }
  },
  {
   "cell_type": "markdown",
   "source": [
    "Subqueries made this selection possible. "
   ],
   "metadata": {
    "collapsed": false,
    "pycharm": {
     "name": "#%% md\n"
    }
   }
  },
  {
   "cell_type": "markdown",
   "source": [
    "\n",
    "#### The Semijoin\n",
    "\n",
    "- Using a subquery from one table to filter another table.\n",
    "\n",
    "Example:\n",
    "\n",
    "Get the airport name, code, country, and altitude for airports with more than 200 routes originating from that airport."
   ],
   "metadata": {
    "collapsed": false,
    "pycharm": {
     "name": "#%% md\n"
    }
   }
  },
  {
   "cell_type": "code",
   "execution_count": null,
   "outputs": [],
   "source": [
    "%%capture semijoin\n",
    "pd.read_sql('''\n",
    "\n",
    "SELECT name, code, country, \n",
    "CAST(altitude AS int) AS altitde\n",
    "FROM airports\n",
    "\n",
    "WHERE code IN (\n",
    "SELECT source\n",
    "     FROM routes\n",
    "     GROUP BY source\n",
    "     HAVING COUNT(source) > 200 \n",
    ")\n",
    "''', con)"
   ],
   "metadata": {
    "collapsed": false,
    "pycharm": {
     "name": "#%%\n"
    }
   }
  },
  {
   "cell_type": "code",
   "execution_count": null,
   "outputs": [],
   "source": [
    "semijoin()"
   ],
   "metadata": {
    "collapsed": false,
    "pycharm": {
     "name": "#%%\n"
    }
   }
  },
  {
   "cell_type": "markdown",
   "source": [
    "**Exercise**\n",
    "\n",
    "Get me routes (all columns) whose destination airport is in the America/New York time zone."
   ],
   "metadata": {
    "collapsed": false,
    "pycharm": {
     "name": "#%% md\n"
    }
   }
  },
  {
   "cell_type": "code",
   "execution_count": null,
   "outputs": [],
   "source": [
    "%%bash\n",
    "\n",
    "sqlite3 data/flights.db\n",
    ".schema airports"
   ],
   "metadata": {
    "collapsed": false,
    "pycharm": {
     "name": "#%%\n"
    }
   }
  },
  {
   "cell_type": "code",
   "execution_count": null,
   "outputs": [],
   "source": [
    "%%bash\n",
    "\n",
    "sqlite3 data/flights.db\n",
    ".schema airlines"
   ],
   "metadata": {
    "collapsed": false,
    "pycharm": {
     "name": "#%%\n"
    }
   }
  },
  {
   "cell_type": "code",
   "execution_count": null,
   "outputs": [],
   "source": [
    "# help me out \n",
    "pd.read_sql('''\n",
    "SELECT *\n",
    "FROM routes\n",
    "WHERE dest IN\n",
    "(SELECT code \n",
    "FROM airports \n",
    "WHERE timezone = 'America/New_York')\n",
    "\n",
    "''', con)"
   ],
   "metadata": {
    "collapsed": false,
    "pycharm": {
     "name": "#%%\n"
    }
   }
  },
  {
   "cell_type": "markdown",
   "source": [
    "#### The antijoin\n",
    "\n",
    "Just the negation of the semijoin:"
   ],
   "metadata": {
    "collapsed": false,
    "pycharm": {
     "name": "#%% md\n"
    }
   }
  },
  {
   "cell_type": "code",
   "execution_count": null,
   "outputs": [],
   "source": [
    "%%capture antijoin\n",
    "\n",
    "pd.read_sql('''\n",
    "SELECT *\n",
    "FROM airports\n",
    "\n",
    "WHERE NOT code IN (\n",
    "SELECT source \n",
    "     FROM routes\n",
    "     GROUP BY source\n",
    "     HAVING COUNT(source) > 300 \n",
    ")\n",
    "''', con)"
   ],
   "metadata": {
    "collapsed": false,
    "pycharm": {
     "name": "#%%\n"
    }
   }
  },
  {
   "cell_type": "code",
   "execution_count": null,
   "outputs": [],
   "source": [
    "antijoin()"
   ],
   "metadata": {
    "collapsed": false,
    "pycharm": {
     "name": "#%%\n"
    }
   }
  },
  {
   "cell_type": "markdown",
   "source": [
    "#### Subqueries in the SELECT statement\n",
    "\n",
    "Get altitude of airport side by side with average airport altitude in the respective country."
   ],
   "metadata": {
    "collapsed": false,
    "pycharm": {
     "name": "#%% md\n"
    }
   }
  },
  {
   "cell_type": "code",
   "execution_count": null,
   "outputs": [],
   "source": [
    "%%capture select_subquery\n",
    "\n",
    "pd.read_sql('''\n",
    "SELECT a1.country,\n",
    "name, \n",
    "CAST(altitude as int) AS altitude ,\n",
    "\n",
    "(SELECT AVG(CAST(altitude as int))\n",
    "FROM airports AS a2\n",
    "WHERE a2.country == a1.country\n",
    ") AS avg_alt\n",
    "\n",
    "FROM airports AS a1\n",
    "\n",
    "\n",
    "''', con)"
   ],
   "metadata": {
    "collapsed": false,
    "pycharm": {
     "name": "#%%\n"
    }
   }
  },
  {
   "cell_type": "markdown",
   "source": [
    "Sometimes known as a **correlated subquery**.\n",
    "\n",
    "- Inner select statement filters a2 by country matching a given row's country in a1. Takes average altitude.\n",
    "\n",
    "- Does this for each row in a1. The filtering of a2 by country *correlated* with current row in a1.\n",
    "\n",
    "\n",
    "**Correlated subqueries can be a bit slow**\n"
   ],
   "metadata": {
    "collapsed": false,
    "pycharm": {
     "name": "#%% md\n"
    }
   }
  },
  {
   "cell_type": "code",
   "execution_count": null,
   "outputs": [],
   "source": [
    "select_subquery()"
   ],
   "metadata": {
    "collapsed": false,
    "pycharm": {
     "name": "#%%\n"
    }
   }
  },
  {
   "cell_type": "markdown",
   "source": [
    "#### Common Table Expressions (CTEs)\n",
    "\n",
    "Useful for when:\n",
    "\n",
    "- Multiple subqueries floating around.\n",
    "- Reusing same subqueries over and over again in same statement.\n",
    "\n",
    "Cleans code up, reduces error, makes readable."
   ],
   "metadata": {
    "collapsed": false,
    "pycharm": {
     "name": "#%% md\n"
    }
   }
  },
  {
   "cell_type": "markdown",
   "source": [
    "CTE syntax:\n",
    "\n",
    "WITH subquery1_name AS (subquery1 statement),\n",
    "<br>\n",
    "WITH subquery2_name AS (subquery2 statement), \n",
    "<br>\n",
    "...., \n",
    "<br>\n",
    "WITH subquery_n_name AS (subquery_n statement)\n",
    "<br>\n",
    "<br>\n",
    "MAIN QUERY"
   ],
   "metadata": {
    "collapsed": false,
    "pycharm": {
     "name": "#%% md\n"
    }
   }
  },
  {
   "cell_type": "code",
   "execution_count": null,
   "outputs": [],
   "source": [
    "%%capture filtered_result\n",
    "\n",
    "pd.read_sql(\"\"\"\n",
    "\n",
    "WITH s1 AS (\n",
    "     SELECT source, COUNT(source) as departure_count\n",
    "     FROM routes\n",
    "     GROUP BY source),\n",
    "     \n",
    "     s2 AS ( \n",
    "     SELECT dest, COUNT(dest) as arrival_count\n",
    "     FROM routes\n",
    "     GROUP BY dest\n",
    "     )\n",
    "\n",
    "\n",
    "SELECT source, departure_count, arrival_count\n",
    "FROM\n",
    "s1 INNER JOIN s2\n",
    "ON s1.source = s2.dest\n",
    "\n",
    "     \n",
    "\"\"\", con)"
   ],
   "metadata": {
    "collapsed": false,
    "pycharm": {
     "name": "#%%\n"
    }
   }
  },
  {
   "cell_type": "code",
   "execution_count": null,
   "outputs": [],
   "source": [
    "filtered_result()"
   ],
   "metadata": {
    "collapsed": false,
    "pycharm": {
     "name": "#%%\n"
    }
   }
  },
  {
   "cell_type": "markdown",
   "source": [
    "CTEs make the primary query easy to read.\n",
    "\n",
    "- Subqueries can just be referenced by looking it up in the CTE."
   ],
   "metadata": {
    "collapsed": false,
    "pycharm": {
     "name": "#%% md\n"
    }
   }
  },
  {
   "cell_type": "code",
   "execution_count": null,
   "outputs": [],
   "source": [
    "df3 = pd.read_sql(\"\"\"\n",
    "\n",
    "SELECT source, dest,\n",
    "ap1.city AS source_city,\n",
    "ap2.city AS dest_city,\n",
    "ap1.country AS source_country, \n",
    "ap2.country AS dest_country,\n",
    "CAST(ap1.altitude as float) AS alt,\n",
    "max_alt\n",
    "\n",
    "FROM routes\n",
    "INNER JOIN \n",
    "\n",
    "(\n",
    "SELECT * \n",
    "FROM\n",
    "airports\n",
    "WHERE country == 'United States') as ap1\n",
    "\n",
    "\n",
    "INNER JOIN \n",
    "\n",
    "(\n",
    "SELECT country, \n",
    "city, name, code, \n",
    "MAX(CAST(altitude as float)) AS max_alt\n",
    "\n",
    "FROM airports \n",
    "GROUP BY country\n",
    ")  as ap2\n",
    "\n",
    "ON (routes.source == ap1.code AND routes.dest == ap2.code)\n",
    "\n",
    "\"\"\", con)"
   ],
   "metadata": {
    "collapsed": false,
    "pycharm": {
     "name": "#%%\n"
    }
   }
  },
  {
   "cell_type": "code",
   "execution_count": 137,
   "id": "8298abbd",
   "metadata": {
    "scrolled": true,
    "slideshow": {
     "slide_type": "skip"
    }
   },
   "outputs": [],
   "source": [
    "df3 = pd.read_sql(\"\"\"\n",
    "\n",
    "SELECT source, dest,\n",
    "ap1.city AS source_city,\n",
    "ap2.city AS dest_city,\n",
    "ap1.country AS source_country, \n",
    "ap2.country AS dest_country,\n",
    "CAST(ap1.altitude as float) AS alt,\n",
    "max_alt\n",
    "\n",
    "FROM routes\n",
    "INNER JOIN \n",
    "\n",
    "(\n",
    "SELECT * \n",
    "FROM\n",
    "airports\n",
    "WHERE country == 'United States') as ap1\n",
    "\n",
    "\n",
    "INNER JOIN \n",
    "\n",
    "(\n",
    "SELECT country, \n",
    "city, name, code, \n",
    "MAX(CAST(altitude as float)) AS max_alt\n",
    "\n",
    "FROM airports \n",
    "GROUP BY country\n",
    ")  as ap2\n",
    "\n",
    "ON (routes.source == ap1.code AND routes.dest == ap2.code)\n",
    "\n",
    "\"\"\", con)"
   ]
  }
 ],
 "metadata": {
  "celltoolbar": "Slideshow",
  "kernelspec": {
   "display_name": "Python 3 (ipykernel)",
   "language": "python",
   "name": "python3"
  },
  "language_info": {
   "codemirror_mode": {
    "name": "ipython",
    "version": 3
   },
   "file_extension": ".py",
   "mimetype": "text/x-python",
   "name": "python",
   "nbconvert_exporter": "python",
   "pygments_lexer": "ipython3",
   "version": "3.9.7"
  }
 },
 "nbformat": 4,
 "nbformat_minor": 5
}