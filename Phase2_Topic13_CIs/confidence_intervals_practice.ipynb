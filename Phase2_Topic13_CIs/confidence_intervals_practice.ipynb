{
 "cells": [
  {
   "cell_type": "code",
   "execution_count": 2,
   "metadata": {
    "collapsed": true,
    "pycharm": {
     "name": "#%%\n"
    }
   },
   "outputs": [],
   "source": [
    "from scipy import stats\n",
    "import numpy as np"
   ]
  },
  {
   "cell_type": "code",
   "execution_count": 5,
   "outputs": [],
   "source": [
    "dist = stats.norm(100, 15)\n",
    "pop = dist.rvs(1000, random_state= 15)"
   ],
   "metadata": {
    "collapsed": false,
    "pycharm": {
     "name": "#%%\n"
    }
   }
  },
  {
   "cell_type": "code",
   "execution_count": 7,
   "outputs": [],
   "source": [
    "np.random.seed(42)\n",
    "\n",
    "sample = np.random.choice(pop, size = 20, replace = False)"
   ],
   "metadata": {
    "collapsed": false,
    "pycharm": {
     "name": "#%%\n"
    }
   }
  },
  {
   "cell_type": "code",
   "execution_count": 8,
   "outputs": [],
   "source": [
    "# confidence level is 90% so alpha is 1-Z = alpha\n",
    "\n",
    "a = .9\n",
    "\n",
    "z = stats.norm().ppf(0.95)"
   ],
   "metadata": {
    "collapsed": false,
    "pycharm": {
     "name": "#%%\n"
    }
   }
  },
  {
   "cell_type": "code",
   "execution_count": 9,
   "outputs": [],
   "source": [
    "x_bar = sample.mean()\n",
    "s = sample.std()\n",
    "se = sample.std()/ np.sqrt(20)"
   ],
   "metadata": {
    "collapsed": false,
    "pycharm": {
     "name": "#%%\n"
    }
   }
  },
  {
   "cell_type": "code",
   "execution_count": 10,
   "outputs": [
    {
     "data": {
      "text/plain": "(96.05092577058291, 103.79316896215913)"
     },
     "execution_count": 10,
     "metadata": {},
     "output_type": "execute_result"
    }
   ],
   "source": [
    "x_bar - z*se, x_bar + z*se"
   ],
   "metadata": {
    "collapsed": false,
    "pycharm": {
     "name": "#%%\n"
    }
   }
  },
  {
   "cell_type": "code",
   "execution_count": 31,
   "outputs": [
    {
     "name": "stdout",
     "output_type": "stream",
     "text": [
      "0.07580683388428489 0.04978706836786395 -5.0\n"
     ]
    }
   ],
   "source": [
    "#a very bad call center has found that out of 10,000 calls it succeeds at its job only 5 times.\n",
    "#the employee shmoopie is working and they are expecting the center to recieve 1000 calls today\n",
    "# what is the probability that shmoopie will succeeed at thier job 2 times today?\n",
    "\n",
    "p = 5/10000\n",
    "\n",
    "prob1 = stats.binom.pmf(2, 1000, p)\n",
    "\n",
    "\n",
    "\n",
    "#The time between the arrival of calls at a call center has been found on average to be 5 minutes.\n",
    "#What is the probability that there will a call center deadtime (time between calls) of greater than 8 minutes?\n",
    "\n",
    "lam = 5\n",
    "\n",
    "prob2 = 1 - stats.expon.cdf(8 , 5)\n",
    "\n",
    "#your are one of 1000 people who bought a raffle ticket\n",
    "#the cost of the ticket is $10 but could pottentially win a trip worth $5000\n",
    "#what is the expected value of your 10$ purchase?\n",
    "\n",
    "p = 1/1000\n",
    "prob3 = 999/1000*-10 + p*4990\n",
    "\n",
    "print(prob1, prob2, prob3)"
   ],
   "metadata": {
    "collapsed": false,
    "pycharm": {
     "name": "#%%\n"
    }
   }
  }
 ],
 "metadata": {
  "kernelspec": {
   "display_name": "Python 3",
   "language": "python",
   "name": "python3"
  },
  "language_info": {
   "codemirror_mode": {
    "name": "ipython",
    "version": 2
   },
   "file_extension": ".py",
   "mimetype": "text/x-python",
   "name": "python",
   "nbconvert_exporter": "python",
   "pygments_lexer": "ipython2",
   "version": "2.7.6"
  }
 },
 "nbformat": 4,
 "nbformat_minor": 0
}